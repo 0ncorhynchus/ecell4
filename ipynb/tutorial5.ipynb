{
 "metadata": {
  "name": "Tutorial 5 (Example 1)"
 },
 "nbformat": 3,
 "nbformat_minor": 0,
 "worksheets": [
  {
   "cells": [
    {
     "cell_type": "markdown",
     "metadata": {},
     "source": "# Tutorial 5 (Example 1)\n\nThis is a tutorial for E-Cell4. Here, we show a simple equilibrium model as an example."
    },
    {
     "cell_type": "code",
     "collapsed": true,
     "input": "from ecell4.core import *\nfrom ecell4.gillespie import GillespieWorld as world_type, GillespieSimulator as simulator_type\n# from ecell4.ode import ODEWorld as world_type, ODESimulator as simulator_type\n# from ecell4.lattice import LatticeWorld as world_type, LatticeSimulator as simulator_type\n# from ecell4.bd import BDWorld as world_type, BDSimulator as simulator_type",
     "language": "python",
     "metadata": {},
     "outputs": [],
     "prompt_number": 65
    },
    {
     "cell_type": "markdown",
     "metadata": {},
     "source": "Set up parameters:"
    },
    {
     "cell_type": "code",
     "collapsed": true,
     "input": "L, N, kd, U, D, radius = 1.0, 60, 0.1, 0.5, \"1\", \"0.01\"\nvolume = L * L * L\nka = kd * volume * (1 - U) / (U * U * N)\n\nsp1, sp2, sp3 = Species(\"A\", radius, D), Species(\"B\", radius, D), Species(\"A.B\", radius, D)\nrr1, rr2 = create_binding_reaction_rule(sp1, sp2, sp3, ka), create_unbinding_reaction_rule(sp3, sp1, sp2, kd)",
     "language": "python",
     "metadata": {},
     "outputs": [],
     "prompt_number": 66
    },
    {
     "cell_type": "markdown",
     "metadata": {},
     "source": "Create a model:"
    },
    {
     "cell_type": "code",
     "collapsed": true,
     "input": "m = NetworkModel()\nm.add_species_attribute(sp1)\nm.add_species_attribute(sp2)\nm.add_species_attribute(sp3)\nm.add_reaction_rule(rr1)\nm.add_reaction_rule(rr2)",
     "language": "python",
     "metadata": {},
     "outputs": [],
     "prompt_number": 67
    },
    {
     "cell_type": "markdown",
     "metadata": {},
     "source": "Create a world and simulator:"
    },
    {
     "cell_type": "code",
     "collapsed": true,
     "input": "w = world_type(Position3(L, L, L))\nw.bind_to(m)\nw.add_molecules(Species(\"A\"), N)\nw.add_molecules(Species(\"B\"), N)\n\nsim = simulator_type(m, w)\nsim.set_dt(1e-3) #XXX: This is too large to get the accurate result with BDSimulator.",
     "language": "python",
     "metadata": {},
     "outputs": [],
     "prompt_number": 68
    },
    {
     "cell_type": "markdown",
     "metadata": {},
     "source": "Run a simulation:"
    },
    {
     "cell_type": "code",
     "collapsed": true,
     "input": "next_time, dt = 0.0, 0.05\ndata = [(w.t(), w.num_molecules(sp1), w.num_molecules(sp2), w.num_molecules(sp3))]\nfor i in range(100):\n    next_time += dt\n    while (sim.step(next_time)): pass\n    data.append((w.t(), w.num_molecules(sp1), w.num_molecules(sp2), w.num_molecules(sp3)))",
     "language": "python",
     "metadata": {},
     "outputs": [],
     "prompt_number": 69
    },
    {
     "cell_type": "markdown",
     "metadata": {},
     "source": "Plot with Matplotlib:"
    },
    {
     "cell_type": "code",
     "collapsed": false,
     "input": "import matplotlib.pylab as plt\nfrom numpy import array\n\ndata = array(data)\nplt.plot(data.T[0], data.T[1], \"r-\", label=sp1.serial())\nplt.plot(data.T[0], data.T[2], \"g--\", label=sp2.serial())\nplt.plot(data.T[0], data.T[3], \"b:\", label=sp3.serial())\nplt.xlabel(\"Time\")\nplt.ylabel(\"Number Of Molecules\")\nplt.xlim(data.T[0][0], data.T[0][-1])\nplt.legend(loc=\"best\", shadow=True)\nplt.show()",
     "language": "python",
     "metadata": {},
     "outputs": [
      {
       "metadata": {},
       "output_type": "display_data",
       "png": "[encoded data removed]",
       "text": "<matplotlib.figure.Figure at 0x7f244466d690>"
      }
     ],
     "prompt_number": 70
    },
    {
     "cell_type": "code",
     "collapsed": false,
     "input": "",
     "language": "python",
     "metadata": {},
     "outputs": [],
     "prompt_number": 70
    }
   ],
   "metadata": {}
  }
 ]
}