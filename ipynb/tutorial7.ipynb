{
 "metadata": {
  "name": "",
  "signature": "sha256:80a63ee6219b246c1fd2fff1157b530c52e3504d27875d63457692b2f8e236b6"
 },
 "nbformat": 3,
 "nbformat_minor": 0,
 "worksheets": [
  {
   "cells": [
    {
     "cell_type": "markdown",
     "metadata": {},
     "source": [
      "# Tutorial 7 (Model Advanced)\n",
      "\n",
      "This is a tutorial for E-Cell4."
     ]
    },
    {
     "cell_type": "code",
     "collapsed": false,
     "input": [
      "%matplotlib inline"
     ],
     "language": "python",
     "metadata": {},
     "outputs": [],
     "prompt_number": 10
    },
    {
     "cell_type": "code",
     "collapsed": false,
     "input": [
      "from ecell4.core import *\n",
      "from ecell4.reaction_reader.decorator import species_attributes, reaction_rules"
     ],
     "language": "python",
     "metadata": {},
     "outputs": [],
     "prompt_number": 11
    },
    {
     "cell_type": "code",
     "collapsed": false,
     "input": [
      "@species_attributes\n",
      "def attrgen(radius, D):\n",
      "    K | {\"radius\": radius, \"D\": D}\n",
      "    Kp | {\"radius\": radius, \"D\": D}\n",
      "    Kpp | {\"radius\": radius, \"D\": D}\n",
      "    KK | {\"radius\": radius, \"D\": D}\n",
      "    PP | {\"radius\": radius, \"D\": D}\n",
      "    K.KK | {\"radius\": radius, \"D\": D}\n",
      "    Kp.KK | {\"radius\": radius, \"D\": D}\n",
      "    Kpp.PP | {\"radius\": radius, \"D\": D}\n",
      "    Kp.PP | {\"radius\": radius, \"D\": D}\n",
      "\n",
      "@reaction_rules\n",
      "def rulegen(kon1, koff1, kcat1, kon2, koff2, kcat2):\n",
      "    (K + KK == K.KK | (kon1, koff1)\n",
      "        > Kp + KK | kcat1\n",
      "        == Kp.KK | (kon2, koff2)\n",
      "        > Kpp + KK | kcat2)\n",
      "\n",
      "    (Kpp + PP == Kpp.PP | (kon1, koff1)\n",
      "        > Kp + PP | kcat1\n",
      "        == Kp.PP | (kon2, koff2)\n",
      "        > K + PP | kcat2)"
     ],
     "language": "python",
     "metadata": {},
     "outputs": [],
     "prompt_number": 12
    },
    {
     "cell_type": "code",
     "collapsed": false,
     "input": [
      "m = NetworkModel()"
     ],
     "language": "python",
     "metadata": {},
     "outputs": [],
     "prompt_number": 13
    },
    {
     "cell_type": "code",
     "collapsed": false,
     "input": [
      "for i, sp in enumerate(attrgen(\"0.0025\", \"1\")):\n",
      "    print i, sp.serial(), sp.get_attribute(\"radius\"), sp.get_attribute(\"D\")\n",
      "    m.add_species_attribute(sp)"
     ],
     "language": "python",
     "metadata": {},
     "outputs": [
      {
       "output_type": "stream",
       "stream": "stdout",
       "text": [
        "0 K 0.0025 1\n",
        "1 Kp 0.0025 1\n",
        "2 Kpp 0.0025 1\n",
        "3 KK 0.0025 1\n",
        "4 PP 0.0025 1\n",
        "5 K.KK 0.0025 1\n",
        "6 Kp.KK 0.0025 1\n",
        "7 Kpp.PP 0.0025 1\n",
        "8 Kp.PP 0.0025 1\n"
       ]
      }
     ],
     "prompt_number": 14
    },
    {
     "cell_type": "code",
     "collapsed": false,
     "input": [
      "ka1, kd1, kcat1 = 0.04483455086786913, 1.35, 1.5\n",
      "ka2, kd2, kcat2 = 0.09299017957780264, 1.73, 15.0\n",
      "\n",
      "for i, rr in enumerate(rulegen(ka1, kd2, kcat1, ka2, kd2, kcat2)):\n",
      "    reactants, products, k = rr.reactants(), rr.products(), rr.k()\n",
      "    print i, map(lambda sp: sp.serial(), reactants), map(lambda sp: sp.serial(), products), k\n",
      "    m.add_reaction_rule(rr)"
     ],
     "language": "python",
     "metadata": {},
     "outputs": [
      {
       "output_type": "stream",
       "stream": "stdout",
       "text": [
        "0 ['K', 'KK'] ['K.KK'] 0.0448345508679\n",
        "1 ['K.KK'] ['K', 'KK'] 1.73\n",
        "2 ['K.KK'] ['Kp', 'KK'] 1.5\n",
        "3 ['Kp', 'KK'] ['Kp.KK'] 0.0929901795778\n",
        "4 ['Kp.KK'] ['Kp', 'KK'] 1.73\n",
        "5 ['Kp.KK'] ['Kpp', 'KK'] 15.0\n",
        "6 ['Kpp', 'PP'] ['Kpp.PP'] 0.0448345508679\n",
        "7 ['Kpp.PP'] ['Kpp', 'PP'] 1.73\n",
        "8 ['Kpp.PP'] ['Kp', 'PP'] 1.5\n",
        "9 ['Kp', 'PP'] ['Kp.PP'] 0.0929901795778\n",
        "10 ['Kp.PP'] ['Kp', 'PP'] 1.73\n",
        "11 ['Kp.PP'] ['K', 'PP'] 15.0\n"
       ]
      }
     ],
     "prompt_number": 15
    },
    {
     "cell_type": "code",
     "collapsed": false,
     "input": [
      "from ecell4.gillespie import GillespieWorld as world_type, GillespieSimulator as simulator_type\n",
      "# from ecell4.ode import ODEWorld as world_type, ODESimulator as simulator_type\n",
      "\n",
      "w = world_type(Position3(1, 1, 1))\n",
      "w.bind_to(m)\n",
      "w.add_molecules(Species(\"K\"), 120)\n",
      "w.add_molecules(Species(\"KK\"), 30)\n",
      "w.add_molecules(Species(\"PP\"), 30)\n",
      "sim = simulator_type(m, w)"
     ],
     "language": "python",
     "metadata": {},
     "outputs": [],
     "prompt_number": 16
    },
    {
     "cell_type": "code",
     "collapsed": false,
     "input": [
      "next_time, dt = 0.0, 1.0\n",
      "data = [(w.t(),\n",
      "    w.num_molecules(Species(\"K\")) + w.num_molecules(Species(\"K.KK\")),\n",
      "    w.num_molecules(Species(\"Kp\")) + w.num_molecules(Species(\"Kp.KK\")) + w.num_molecules(Species(\"Kp.PP\")),\n",
      "    w.num_molecules(Species(\"Kpp\")) + w.num_molecules(Species(\"Kpp.PP\")))]\n",
      "for i in range(60):\n",
      "    next_time += dt\n",
      "    while (sim.step(next_time)): pass\n",
      "    data.append((w.t(),\n",
      "        w.num_molecules(Species(\"K\")) + w.num_molecules(Species(\"K.KK\")),\n",
      "        w.num_molecules(Species(\"Kp\")) + w.num_molecules(Species(\"Kp.KK\")) + w.num_molecules(Species(\"Kp.PP\")),\n",
      "        w.num_molecules(Species(\"Kpp\")) + w.num_molecules(Species(\"Kpp.PP\"))))"
     ],
     "language": "python",
     "metadata": {},
     "outputs": [],
     "prompt_number": 17
    },
    {
     "cell_type": "code",
     "collapsed": false,
     "input": [
      "import matplotlib.pylab as plt\n",
      "from numpy import array\n",
      "\n",
      "data = array(data)\n",
      "plt.plot(data.T[0], data.T[1], \"r-\", label=\"K\")\n",
      "plt.plot(data.T[0], data.T[2], \"g--\", label=\"Kp\")\n",
      "plt.plot(data.T[0], data.T[3], \"b:\", label=\"Kpp\")\n",
      "plt.xlabel(\"Time\")\n",
      "plt.ylabel(\"Number Of Molecules\")\n",
      "plt.xlim(data.T[0][0], data.T[0][-1])\n",
      "plt.legend(loc=\"best\", shadow=True)\n",
      "plt.show()"
     ],
     "language": "python",
     "metadata": {},
     "outputs": [
      {
       "metadata": {},
       "output_type": "display_data",
       "png": "[encoded data removed]",
       "text": [
        "<matplotlib.figure.Figure at 0x7f8324e3eb10>"
       ]
      }
     ],
     "prompt_number": 18
    }
   ],
   "metadata": {}
  }
 ]
}