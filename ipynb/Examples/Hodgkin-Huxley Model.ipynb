{
 "cells": [
  {
   "cell_type": "markdown",
   "metadata": {},
   "source": [
    "# Hodgkin-Huxley Model\n",
    "\n",
    "- A.L. Hodgkin, A.F. Huxley, \"A quantitative description of membrane current and its application to conduction and excitation in nerve\", J. Physiol., 117, 500-544, 1952."
   ]
  },
  {
   "cell_type": "code",
   "execution_count": 1,
   "metadata": {
    "collapsed": false
   },
   "outputs": [],
   "source": [
    "%matplotlib inline\n",
    "import numpy as np\n",
    "from ecell4 import *"
   ]
  },
  {
   "cell_type": "code",
   "execution_count": 2,
   "metadata": {
    "collapsed": false
   },
   "outputs": [],
   "source": [
    "Q10 = 3.0\n",
    "GNa = 120.0 # mS/cm^2\n",
    "GK = 36.0 # mS/cm^2\n",
    "gL = 0.3 # mS/cm^2\n",
    "EL = -64.387 # mV\n",
    "ENa = 40.0 # mV\n",
    "EK = -87.0 # mV\n",
    "Cm = 1.0 # uF/cm^2\n",
    "\n",
    "T = 6.3 # degrees C\n",
    "Iext = 10.0 # nA\n",
    "\n",
    "with reaction_rules():\n",
    "    Q = Q10 ** ((T - 6.3) / 10)\n",
    "\n",
    "    alpha_m = -0.1 * (Vm + 50) / (exp(-(Vm + 50) / 10) - 1)\n",
    "    beta_m = 4 * exp(-(Vm + 75) / 18)\n",
    "    ~m > m | Q * (alpha_m * (1 - m) - beta_m * m)\n",
    "\n",
    "    alpha_h = 0.07 * exp(-(Vm + 75) / 20)\n",
    "    beta_h = 1.0 / (exp(-(Vm + 45) / 10) + 1)\n",
    "    ~h > h | Q * (alpha_h * (1 - h) - beta_h * h)\n",
    "\n",
    "    alpha_n = -0.01 * (Vm + 65) / (exp(-(Vm + 65) / 10) - 1)\n",
    "    beta_n = 0.125 * exp(-(Vm + 75) / 80)    \n",
    "    ~n > n | Q * (alpha_n * (1 - n) - beta_n * n)\n",
    "\n",
    "    gNa = (m ** 3) * h * GNa\n",
    "    INa = gNa * (Vm - ENa)\n",
    "    gK = (n ** 4) * GK\n",
    "    IK = gK * (Vm - EK)\n",
    "    IL = gL * (Vm - EL)\n",
    "    ~Vm > Vm | (Iext - (IL + INa + IK)) / Cm\n",
    "\n",
    "hhm = get_model()"
   ]
  },
  {
   "cell_type": "code",
   "execution_count": 3,
   "metadata": {
    "collapsed": false
   },
   "outputs": [
    {
     "name": "stdout",
     "output_type": "stream",
     "text": [
      "Vm>m+Vm|(1.0*((((-0.1*(Vm+50))/(exp((-(Vm+50)/10))-1))*(1-m))-(4*exp((-(Vm+75)/18))*m)))\n",
      "Vm>h+Vm|(1.0*((0.07*exp((-(Vm+75)/20))*(1-h))-((1.0/(exp((-(Vm+45)/10))+1))*h)))\n",
      "Vm>n+Vm|(1.0*((((-0.01*(Vm+65))/(exp((-(Vm+65)/10))-1))*(1-n))-(0.125*exp((-(Vm+75)/80))*n)))\n",
      "m+h+n>Vm+m+h+n|((10.0-((0.3*(Vm--64.387))+((m**3)*h*120.0*(Vm-40.0))+((n**4)*36.0*(Vm--87.0))))/1.0)\n"
     ]
    }
   ],
   "source": [
    "for rr in hhm.reaction_rules():\n",
    "    print(rr.as_string())"
   ]
  },
  {
   "cell_type": "code",
   "execution_count": 4,
   "metadata": {
    "collapsed": false
   },
   "outputs": [
    {
     "data": {
      "image/png": "[encoded data removed]",
      "text/plain": [
       "<matplotlib.figure.Figure at 0x7fbe39612550>"
      ]
     },
     "metadata": {},
     "output_type": "display_data"
    }
   ],
   "source": [
    "run_simulation(np.linspace(0, 100, 1001), model=hhm, y0={'Vm': -75}, species_list=['Vm'])"
   ]
  }
 ],
 "metadata": {
  "kernelspec": {
   "display_name": "Python 2",
   "language": "python",
   "name": "python2"
  },
  "language_info": {
   "codemirror_mode": {
    "name": "ipython",
    "version": 2
   },
   "file_extension": ".py",
   "mimetype": "text/x-python",
   "name": "python",
   "nbconvert_exporter": "python",
   "pygments_lexer": "ipython2",
   "version": "2.7.6"
  }
 },
 "nbformat": 4,
 "nbformat_minor": 0
}
