{
 "metadata": {
  "name": "",
  "signature": "sha256:76ccef76c4771bc9013f3a59587ed92b1f61e05857cb73d897279901083fca89"
 },
 "nbformat": 3,
 "nbformat_minor": 0,
 "worksheets": [
  {
   "cells": [
    {
     "cell_type": "markdown",
     "metadata": {},
     "source": [
      "<div>\n",
      "<img src=\"http://dev.e-cell.org/ecell-logo-with-title.png\">\n",
      "</div>"
     ]
    },
    {
     "cell_type": "markdown",
     "metadata": {},
     "source": [
      "Welcome to [E-Cell4](https://github.com/ecell/ecell4) in IPython Notebook!\n",
      "\n",
      "E-Cell System, a software platform for modeling, simulation and analysis of complex, heterogeneous and multi-scale systems like the cell."
     ]
    },
    {
     "cell_type": "heading",
     "level": 1,
     "metadata": {},
     "source": [
      "Content"
     ]
    },
    {
     "cell_type": "heading",
     "level": 2,
     "metadata": {},
     "source": [
      "Tutorial"
     ]
    },
    {
     "cell_type": "markdown",
     "metadata": {},
     "source": [
      "The Tutorial is divided in three sections: Basic, Topical and Advanced exercises.\n",
      "Each section contains several IPython notebooks with different exercises. \n",
      "\n",
      "Get started with E-Cell4 by going through the tutorial."
     ]
    },
    {
     "cell_type": "heading",
     "level": 3,
     "metadata": {},
     "source": [
      "Basic Exercises"
     ]
    },
    {
     "cell_type": "markdown",
     "metadata": {},
     "source": [
      "- [Species Basics](http://nbviewer.ipython.org/github/ecell/ecell4/blob/master/ipynb/tutorial1.ipynb)\n",
      "- [Model Basics](http://nbviewer.ipython.org/github/ecell/ecell4/blob/master/ipynb/tutorial2.ipynb)\n",
      "- [World Basics](http://nbviewer.ipython.org/github/ecell/ecell4/blob/master/ipynb/tutorial3.ipynb)"
     ]
    },
    {
     "cell_type": "heading",
     "level": 3,
     "metadata": {},
     "source": [
      "Topical Exercises"
     ]
    },
    {
     "cell_type": "markdown",
     "metadata": {},
     "source": [
      "- [Simulator](http://nbviewer.ipython.org/github/ecell/ecell4/blob/master/ipynb/tutorial4.ipynb)"
     ]
    },
    {
     "cell_type": "heading",
     "level": 3,
     "metadata": {},
     "source": [
      "Advanced Exercises"
     ]
    },
    {
     "cell_type": "markdown",
     "metadata": {},
     "source": [
      "- [Simple equilibrium model](http://nbviewer.ipython.org/github/ecell/ecell4/blob/master/ipynb/tutorial5.ipynb)\n",
      "- [World Advanced](http://nbviewer.ipython.org/github/ecell/ecell4/blob/master/ipynb/tutorial6.ipynb)\n",
      "- [Model Advanced](http://nbviewer.ipython.org/github/ecell/ecell4/blob/master/ipynb/tutorial7.ipynb)\n",
      "- [Rule-based Modeling](http://nbviewer.ipython.org/github/ecell/ecell4/blob/master/ipynb/tutorial8.ipynb)"
     ]
    },
    {
     "cell_type": "markdown",
     "metadata": {},
     "source": [
      "<script>\n",
      "  (function(i,s,o,g,r,a,m){i['GoogleAnalyticsObject']=r;i[r]=i[r]||function(){\n",
      "  (i[r].q=i[r].q||[]).push(arguments)},i[r].l=1*new Date();a=s.createElement(o),\n",
      "  m=s.getElementsByTagName(o)[0];a.async=1;a.src=g;m.parentNode.insertBefore(a,m)\n",
      "  })(window,document,'script','//www.google-analytics.com/analytics.js','ga');\n",
      "\n",
      "  ga('create', 'UA-27761864-9', 'auto');\n",
      "  ga('send', 'pageview');\n",
      "</script>"
     ]
    }
   ],
   "metadata": {}
  }
 ]
}
