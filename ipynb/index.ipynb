{
 "cells": [
  {
   "cell_type": "markdown",
   "metadata": {},
   "source": [
    "<div>\n",
    "<img src=\"http://dev.e-cell.org/ecell-logo-with-title.png\">\n",
    "</div>"
   ]
  },
  {
   "cell_type": "markdown",
   "metadata": {},
   "source": [
    "Welcome to [E-Cell4](https://github.com/ecell/ecell4) in IPython Notebook!\n",
    "\n",
    "E-Cell System, a software platform for modeling, simulation and analysis of complex, heterogeneous and multi-scale systems like the cell."
   ]
  },
  {
   "cell_type": "markdown",
   "metadata": {},
   "source": [
    "# Content"
   ]
  },
  {
   "cell_type": "markdown",
   "metadata": {},
   "source": [
    "## Tutorial"
   ]
  },
  {
   "cell_type": "markdown",
   "metadata": {},
   "source": [
    "The Tutorial is divided in three sections: Basic, Topical and Advanced exercises.  \n",
    "(We recommend to try all Basic exercises to understand how to use E-Cell4.)  \n",
    "Each section contains several IPython notebooks with different exercises. \n",
    "\n",
    "\n",
    "Get started with E-Cell4 by going through the tutorial."
   ]
  },
  {
   "cell_type": "markdown",
   "metadata": {},
   "source": [
    "### Basic Exercises\n",
    "\n",
    "There are three important components to understand E-Cell4.\n",
    "That's **Model**, **World**, **Simulator**.\n",
    "These components describe concepts for the simulation.\n",
    "\n",
    "**Model** as its name suggests, describes the matter to simulate.  \n",
    "**World** describes the state. For example, initial state or a state of a time-point.  \n",
    "**Simulator** describes the solver and algorithm.\n",
    "\n",
    "These three components are independent, but **World** is often combined with **Simulator**."
   ]
  },
  {
   "cell_type": "markdown",
   "metadata": {},
   "source": [
    "- [Model](Tutorials/ModelBasics.ipynb)\n",
    "- [World](Tutorials/WorldBasics.ipynb)\n",
    "- [Simulator](Tutorials/Simulator.ipynb)"
   ]
  },
  {
   "cell_type": "markdown",
   "metadata": {},
   "source": [
    "### Topical Exercises"
   ]
  },
  {
   "cell_type": "markdown",
   "metadata": {},
   "source": [
    "- [Visualizer](Tutorials/Visualizer.ipynb)"
   ]
  },
  {
   "cell_type": "markdown",
   "metadata": {},
   "source": [
    "### Advanced Exercises"
   ]
  },
  {
   "cell_type": "markdown",
   "metadata": {},
   "source": [
    "- [Simple equilibrium model](Tutorials/SimpleEquilibrium.ipynb)\n",
    "- [World Advanced](Tutorials/WorldAdvanced.ipynb)\n",
    "- [Model Advanced](Tutorials/ModelAdvanced.ipynb)\n",
    "- [Rule-based Modeling](Tutorials/RuleBasedModeling.ipynb)"
   ]
  },
  {
   "cell_type": "markdown",
   "metadata": {},
   "source": [
    "<script>\n",
    "  (function(i,s,o,g,r,a,m){i['GoogleAnalyticsObject']=r;i[r]=i[r]||function(){\n",
    "  (i[r].q=i[r].q||[]).push(arguments)},i[r].l=1*new Date();a=s.createElement(o),\n",
    "  m=s.getElementsByTagName(o)[0];a.async=1;a.src=g;m.parentNode.insertBefore(a,m)\n",
    "  })(window,document,'script','//www.google-analytics.com/analytics.js','ga');\n",
    "\n",
    "  ga('create', 'UA-27761864-9', 'auto');\n",
    "  ga('send', 'pageview');\n",
    "</script>"
   ]
  }
 ],
 "metadata": {
  "kernelspec": {
   "display_name": "Python 3",
   "language": "python",
   "name": "python3"
  },
  "language_info": {
   "codemirror_mode": {
    "name": "ipython",
    "version": 3
   },
   "file_extension": ".py",
   "mimetype": "text/x-python",
   "name": "python",
   "nbconvert_exporter": "python",
   "pygments_lexer": "ipython3",
   "version": "3.4.3"
  }
 },
 "nbformat": 4,
 "nbformat_minor": 0
}
