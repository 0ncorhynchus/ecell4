{
 "metadata": {
  "name": "Tutorial 1 (Species Basics)"
 },
 "nbformat": 3,
 "nbformat_minor": 0,
 "worksheets": [
  {
   "cells": [
    {
     "cell_type": "markdown",
     "metadata": {},
     "source": "# Tutorial 1 (Species Basics)\n\nThis is a tutorial for E-Cell4. Here, we introduce how to use Species."
    },
    {
     "cell_type": "markdown",
     "metadata": {},
     "source": "Import the core library, first:"
    },
    {
     "cell_type": "code",
     "collapsed": false,
     "input": "from ecell4.core import *",
     "language": "python",
     "metadata": {},
     "outputs": [],
     "prompt_number": 1
    },
    {
     "cell_type": "markdown",
     "metadata": {},
     "source": "This enables Species class."
    },
    {
     "cell_type": "code",
     "collapsed": false,
     "input": "print Species(\"A\") == Species(\"B\"), Species(\"A\") == Species(\"A\")",
     "language": "python",
     "metadata": {},
     "outputs": [
      {
       "output_type": "stream",
       "stream": "stdout",
       "text": "False True\n"
      }
     ],
     "prompt_number": 2
    },
    {
     "cell_type": "markdown",
     "metadata": {},
     "source": "A Species can be translated into an unique string, named \"serial\":"
    },
    {
     "cell_type": "code",
     "collapsed": false,
     "input": "print Species(\"A\").serial(), Species(\"B\").serial()",
     "language": "python",
     "metadata": {},
     "outputs": [
      {
       "output_type": "stream",
       "stream": "stdout",
       "text": "A B\n"
      }
     ],
     "prompt_number": 3
    },
    {
     "cell_type": "markdown",
     "metadata": {},
     "source": "A Species can have attributes as a pair of strings."
    },
    {
     "cell_type": "code",
     "collapsed": false,
     "input": "sp = Species(\"A\")\nsp.set_attribute(\"radius\", \"0.0025\")\nsp.set_attribute(\"D\", \"1.0\")\nprint sp.has_attribute(\"radius\"), sp.has_attribute(\"spam\")\nprint sp.get_attribute(\"radius\"), sp.get_attribute(\"D\")\nsp.remove_attribute(\"radius\")\nprint sp.has_attribute(\"radius\")\ndel sp",
     "language": "python",
     "metadata": {},
     "outputs": [
      {
       "output_type": "stream",
       "stream": "stdout",
       "text": "True False\n0.0025 1.0\nFalse\n"
      }
     ],
     "prompt_number": 4
    },
    {
     "cell_type": "markdown",
     "metadata": {},
     "source": "Tips: Especially for \"radius\" and \"D\", A Species accepts these attributes at the instantiation:"
    },
    {
     "cell_type": "code",
     "collapsed": false,
     "input": "sp = Species(\"A\", \"0.0025\", \"1\")\nprint sp.get_attribute(\"radius\"), sp.get_attribute(\"D\")\ndel sp",
     "language": "python",
     "metadata": {},
     "outputs": [
      {
       "output_type": "stream",
       "stream": "stdout",
       "text": "0.0025 1\n"
      }
     ],
     "prompt_number": 16
    },
    {
     "cell_type": "markdown",
     "metadata": {},
     "source": "A Species consists of one or more UnitSpecies. UnitSpecies are automatically sorted in the Species."
    },
    {
     "cell_type": "code",
     "collapsed": false,
     "input": "sp = Species()\nusp = UnitSpecies(\"C\")\nprint usp.serial()\nsp.add_unit(usp)\nsp.add_unit(UnitSpecies(\"A\"))\nsp.add_unit(UnitSpecies(\"B\"))\nprint sp.serial(), sp.num_units()\ndel usp, sp",
     "language": "python",
     "metadata": {},
     "outputs": [
      {
       "output_type": "stream",
       "stream": "stdout",
       "text": "C\nA.B.C 3\n"
      }
     ],
     "prompt_number": 5
    },
    {
     "cell_type": "markdown",
     "metadata": {},
     "source": "A Species can be reproduced from serial. In the serial, all serials of UnitSpecies are joined with the separator, \".\"."
    },
    {
     "cell_type": "code",
     "collapsed": false,
     "input": "sp = Species(\"C.A.B\")\nprint sp.serial()\nprint Species(\"A.B.C\") == Species(\"C.A.B\")\ndel sp",
     "language": "python",
     "metadata": {},
     "outputs": [
      {
       "output_type": "stream",
       "stream": "stdout",
       "text": "A.B.C\nTrue\n"
      }
     ],
     "prompt_number": 14
    },
    {
     "cell_type": "markdown",
     "metadata": {},
     "source": "An UnitSpecies can have sites. Sites are also sorted automatically in the UnitSpecies."
    },
    {
     "cell_type": "code",
     "collapsed": false,
     "input": "usp = UnitSpecies(\"A\")\nusp.add_site(\"us\", \"u\", \"\")\nusp.add_site(\"ps\", \"p\", \"_\")\nusp.add_site(\"bs\", \"\", \"_\")\nprint usp.name(), usp.serial()\ndel usp",
     "language": "python",
     "metadata": {},
     "outputs": [
      {
       "output_type": "stream",
       "stream": "stdout",
       "text": "A(bs^_,ps=p^_,us=u)\n"
      }
     ],
     "prompt_number": 7
    },
    {
     "cell_type": "markdown",
     "metadata": {},
     "source": "An UnitSpecies can be reproduced from its serial."
    },
    {
     "cell_type": "code",
     "collapsed": false,
     "input": "usp = UnitSpecies()\nusp.deserialize(\"A(bs^_, us = u, ps = p^_)\")\nprint usp.serial()\ndel usp",
     "language": "python",
     "metadata": {},
     "outputs": [
      {
       "output_type": "stream",
       "stream": "stdout",
       "text": "A(bs^_,ps=p^_,us=u)\n"
      }
     ],
     "prompt_number": 9
    },
    {
     "cell_type": "markdown",
     "metadata": {},
     "source": "Of course, a site of UnitSpecies is available even in a Species."
    },
    {
     "cell_type": "code",
     "collapsed": false,
     "input": "sp = Species(\"A(bs^1, ps=u).A(bs, ps=p^1)\")\nprint sp.serial(), sp.num_units()\ndel sp",
     "language": "python",
     "metadata": {},
     "outputs": [
      {
       "output_type": "stream",
       "stream": "stdout",
       "text": "A(bs,ps=p^1).A(bs^1,ps=u) 2\n"
      }
     ],
     "prompt_number": 13
    },
    {
     "cell_type": "code",
     "collapsed": false,
     "input": "",
     "language": "python",
     "metadata": {},
     "outputs": []
    }
   ],
   "metadata": {}
  }
 ]
}