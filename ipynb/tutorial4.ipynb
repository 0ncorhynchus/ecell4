{
 "metadata": {
  "name": "",
  "signature": "sha256:6e42ae9936b0e5c354cb49922ee8415eb7ba969340ae8b6af8f0eebb80a4dd2a"
 },
 "nbformat": 3,
 "nbformat_minor": 0,
 "worksheets": [
  {
   "cells": [
    {
     "cell_type": "markdown",
     "metadata": {},
     "source": [
      "# Tutorial 4 (Simulator)\n",
      "\n",
      "This is a tutorial for E-Cell4. Here, we explain how to handle Simulators."
     ]
    },
    {
     "cell_type": "markdown",
     "metadata": {},
     "source": [
      "Each World has its corresponding Simulator."
     ]
    },
    {
     "cell_type": "code",
     "collapsed": false,
     "input": [
      "from ecell4.core import *\n",
      "# from ecell4.gillespie import GillespieWorld as world_type, GillespieSimulator as simulator_type\n",
      "# from ecell4.ode import ODEWorld as world_type, ODESimulator as simulator_type\n",
      "from ecell4.lattice import LatticeWorld as world_type, LatticeSimulator as simulator_type\n",
      "# from ecell4.bd import BDWorld as world_type, BDSimulator as simulator_type"
     ],
     "language": "python",
     "metadata": {},
     "outputs": [],
     "prompt_number": 1
    },
    {
     "cell_type": "markdown",
     "metadata": {},
     "source": [
      "Simulator needs a NetworkModel and World at the instantiation."
     ]
    },
    {
     "cell_type": "code",
     "collapsed": false,
     "input": [
      "m = NetworkModel()\n",
      "m.add_species_attribute(Species(\"A\", \"0.0025\", \"1\"))\n",
      "m.add_reaction_rule(create_degradation_reaction_rule(Species(\"A\"), 0.693 / 1))\n",
      "\n",
      "w = world_type(Position3(1, 1, 1))\n",
      "w.bind_to(m)\n",
      "w.add_molecules(Species(\"A\"), 60)\n",
      "\n",
      "sim = simulator_type(m, w)\n",
      "sim.set_dt(0.01) #XXX: Optional"
     ],
     "language": "python",
     "metadata": {},
     "outputs": [],
     "prompt_number": 2
    },
    {
     "cell_type": "markdown",
     "metadata": {},
     "source": [
      "A Simulator has getters for a simulation time, a step interval, and the next-event time. In principle, a Simulator returns the World's time as its simulation time, and does the sum of the current time and a step interval as the next-event time."
     ]
    },
    {
     "cell_type": "code",
     "collapsed": false,
     "input": [
      "print sim.num_steps()\n",
      "print sim.t(), w.t()\n",
      "print sim.next_time(), sim.t() + sim.dt()"
     ],
     "language": "python",
     "metadata": {},
     "outputs": [
      {
       "output_type": "stream",
       "stream": "stdout",
       "text": [
        "0\n",
        "0.0 0.0\n",
        "4.16666666667e-06 4.16666666667e-06\n"
       ]
      }
     ],
     "prompt_number": 3
    },
    {
     "cell_type": "markdown",
     "metadata": {},
     "source": [
      "A Simulator can return the connected model and world. They are not copies, but the shared objects."
     ]
    },
    {
     "cell_type": "code",
     "collapsed": false,
     "input": [
      "print sim.model(), sim.world()"
     ],
     "language": "python",
     "metadata": {},
     "outputs": [
      {
       "output_type": "stream",
       "stream": "stdout",
       "text": [
        "<ecell4.core.NetworkModel object at 0x7f18d9748978> <ecell4.lattice.LatticeWorld object at 0x7f18d9748990>\n"
       ]
      }
     ],
     "prompt_number": 4
    },
    {
     "cell_type": "markdown",
     "metadata": {},
     "source": [
      "If you change a World after connecting it to a Simulator, you have to call `initialize()` manually before `step()`. The call will update the internal state of the Simulator. (NOTE: This requirement will be removed for the beta version.)"
     ]
    },
    {
     "cell_type": "code",
     "collapsed": false,
     "input": [
      "sim.world().add_molecules(Species(\"A\"), 60) # w.add_molecules(Species(\"A\"), 60)\n",
      "sim.initialize() #XXX: this should be called automatically"
     ],
     "language": "python",
     "metadata": {},
     "outputs": [],
     "prompt_number": 5
    },
    {
     "cell_type": "code",
     "collapsed": false,
     "input": [
      "w.save('test.h5')"
     ],
     "language": "python",
     "metadata": {},
     "outputs": [],
     "prompt_number": 6
    },
    {
     "cell_type": "markdown",
     "metadata": {},
     "source": [
      "Simulator has two types of `step` functions. First, with no argument, `step()` increments the time until `next_time()`."
     ]
    },
    {
     "cell_type": "code",
     "collapsed": false,
     "input": [
      "print \"%.3e %.3e\" % (sim.t(), sim.next_time())\n",
      "sim.step()\n",
      "print \"%.3e %.3e\" % (sim.t(), sim.next_time())"
     ],
     "language": "python",
     "metadata": {},
     "outputs": [
      {
       "output_type": "stream",
       "stream": "stdout",
       "text": [
        "0.000e+00 4.167e-06\n",
        "4.167e-06 8.333e-06\n"
       ]
      }
     ],
     "prompt_number": 7
    },
    {
     "cell_type": "markdown",
     "metadata": {},
     "source": [
      "With an argument, `step(upto)` increments the time if `upto` is less than `next_time()` and returns `True`. If not, it increments the time for `upto` and returns `False`. (If the current time `t()` is less than `upto`, it does nothing and returns `False`."
     ]
    },
    {
     "cell_type": "code",
     "collapsed": false,
     "input": [
      "print \"%.3e %.3e\" % (sim.t(), sim.next_time())\n",
      "print sim.step(0.1)\n",
      "print \"%.3e %.3e\" % (sim.t(), sim.next_time())"
     ],
     "language": "python",
     "metadata": {},
     "outputs": [
      {
       "output_type": "stream",
       "stream": "stdout",
       "text": [
        "4.167e-06 8.333e-06\n",
        "True\n",
        "8.333e-06 1.250e-05\n"
       ]
      }
     ],
     "prompt_number": 8
    },
    {
     "cell_type": "markdown",
     "metadata": {},
     "source": [
      "For a discrete-step simulation, the loop can be written like:"
     ]
    },
    {
     "cell_type": "code",
     "collapsed": false,
     "input": [
      "w.load('test.h5')\n",
      "sim.initialize()"
     ],
     "language": "python",
     "metadata": {},
     "outputs": [],
     "prompt_number": 9
    },
    {
     "cell_type": "code",
     "collapsed": false,
     "input": [
      "next_time, dt = 0.0, 1e-2\n",
      "for _ in range(5):\n",
      "    while sim.step(next_time): pass\n",
      "    next_time += dt\n",
      "\n",
      "    print \"%.3e %.3e %d %g\" % (sim.t(), sim.dt(), sim.num_steps(), w.num_molecules(Species(\"A\")))"
     ],
     "language": "python",
     "metadata": {},
     "outputs": [
      {
       "output_type": "stream",
       "stream": "stdout",
       "text": [
        "0.000e+00 4.167e-06 2 120\n",
        "1.000e-02 1.197e-16 2401 120"
       ]
      },
      {
       "output_type": "stream",
       "stream": "stdout",
       "text": [
        "\n",
        "2.000e-02 4.167e-06 4803 119"
       ]
      },
      {
       "output_type": "stream",
       "stream": "stdout",
       "text": [
        "\n",
        "3.000e-02 4.167e-06 7203 119"
       ]
      },
      {
       "output_type": "stream",
       "stream": "stdout",
       "text": [
        "\n",
        "4.000e-02 4.167e-06 9603 119"
       ]
      },
      {
       "output_type": "stream",
       "stream": "stdout",
       "text": [
        "\n"
       ]
      }
     ],
     "prompt_number": 10
    },
    {
     "cell_type": "code",
     "collapsed": false,
     "input": [],
     "language": "python",
     "metadata": {},
     "outputs": [],
     "prompt_number": 10
    }
   ],
   "metadata": {}
  }
 ]
}