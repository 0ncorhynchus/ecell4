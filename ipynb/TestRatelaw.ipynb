{
 "metadata": {
  "name": "",
  "signature": "sha256:161ccff4955ad8abb6985d64acde6843a4cbbe7623a66f5f167a1f7cb1954857"
 },
 "nbformat": 3,
 "nbformat_minor": 0,
 "worksheets": [
  {
   "cells": [
    {
     "cell_type": "code",
     "collapsed": false,
     "input": [
      "from ecell4 import *"
     ],
     "language": "python",
     "metadata": {},
     "outputs": [],
     "prompt_number": 1
    },
    {
     "cell_type": "code",
     "collapsed": false,
     "input": [
      "def func(reactants, products, volume):\n",
      "    k = 1.0\n",
      "    retval = k * volume\n",
      "    for num in reactants:\n",
      "        retval *= num / volume\n",
      "    return retval"
     ],
     "language": "python",
     "metadata": {},
     "outputs": [],
     "prompt_number": 2
    },
    {
     "cell_type": "code",
     "collapsed": false,
     "input": [
      "sp1, sp2, sp3 = Species(\"A\"), Species(\"B\"), Species(\"C\")\n",
      "rr1 = create_unbinding_reaction_rule(sp1, sp2, sp3, 1.0)\n",
      "\n",
      "rr2 = create_unbinding_reaction_rule(sp1, sp2, sp3, 1.0)\n",
      "rl = RatelawCallback(func)\n",
      "rr2.set_ratelaw(rl)"
     ],
     "language": "python",
     "metadata": {},
     "outputs": [],
     "prompt_number": 3
    },
    {
     "cell_type": "code",
     "collapsed": false,
     "input": [
      "m1 = NetworkModel()\n",
      "m1.add_reaction_rule(rr1)\n",
      "m2 = NetworkModel()\n",
      "m2.add_reaction_rule(rr2)"
     ],
     "language": "python",
     "metadata": {},
     "outputs": [],
     "prompt_number": 4
    },
    {
     "cell_type": "code",
     "collapsed": false,
     "input": [
      "def singlerun(f, m, dt):\n",
      "    w = f.create_world(Real3(1, 1, 1))\n",
      "    w.add_molecules(Species(\"A\"), 60)\n",
      "    sim = f.create_simulator(m, w)\n",
      "    obs = FixedIntervalNumberObserver(dt, (\"A\", \"B\"))\n",
      "    sim.run(10.0, obs)\n",
      "    return obs"
     ],
     "language": "python",
     "metadata": {},
     "outputs": [],
     "prompt_number": 5
    },
    {
     "cell_type": "code",
     "collapsed": false,
     "input": [
      "f = ode.ODEFactory()\n",
      "obs1 = singlerun(f, m1, 0.01)\n",
      "obs2 = singlerun(f, m2, 1)"
     ],
     "language": "python",
     "metadata": {},
     "outputs": [],
     "prompt_number": 6
    },
    {
     "cell_type": "code",
     "collapsed": false,
     "input": [
      "viz.plot_number_observer(obs1, \"-\", obs2, \"o\")"
     ],
     "language": "python",
     "metadata": {},
     "outputs": [
      {
       "metadata": {},
       "output_type": "display_data",
       "png": "[encoded data removed]",
       "text": [
        "<matplotlib.figure.Figure at 0x7fa361444950>"
       ]
      }
     ],
     "prompt_number": 7
    },
    {
     "cell_type": "code",
     "collapsed": false,
     "input": [],
     "language": "python",
     "metadata": {},
     "outputs": [],
     "prompt_number": 7
    }
   ],
   "metadata": {}
  }
 ]
}