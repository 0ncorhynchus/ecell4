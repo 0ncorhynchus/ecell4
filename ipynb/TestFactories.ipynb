{
 "metadata": {
  "name": "",
  "signature": "sha256:086c1680cbed04cc7b2fc49a6734c09d6ca3e34ecae1f025d2a206767b0dd467"
 },
 "nbformat": 3,
 "nbformat_minor": 0,
 "worksheets": [
  {
   "cells": [
    {
     "cell_type": "code",
     "collapsed": false,
     "input": [
      "%matplotlib inline\n",
      "from ecell4.core import *\n",
      "from ecell4.util import *\n",
      "from ecell4 import gillespie, lattice, meso, ode, bd, egfrd"
     ],
     "language": "python",
     "metadata": {},
     "outputs": []
    },
    {
     "cell_type": "code",
     "collapsed": false,
     "input": [
      "with species_attributes():\n",
      "    A | B | C | {\"radius\": \"0.005\", \"D\": \"1\"}\n",
      "\n",
      "with reaction_rules():\n",
      "    A + B <> C | (0.01, 0.3)\n",
      "\n",
      "m = get_model(False)"
     ],
     "language": "python",
     "metadata": {},
     "outputs": []
    },
    {
     "cell_type": "code",
     "collapsed": false,
     "input": [
      "def run(factory, observers):\n",
      "    w = factory.create_world(Position3(1, 1, 1))\n",
      "    w.bind_to(m)\n",
      "    w.add_molecules(Species(\"A\"), 60)\n",
      "    w.add_molecules(Species(\"B\"), 60)\n",
      "\n",
      "    sim = factory.create_simulator(w)\n",
      "    sim.run(5.0, observers)"
     ],
     "language": "python",
     "metadata": {},
     "outputs": []
    },
    {
     "cell_type": "code",
     "collapsed": false,
     "input": [
      "# factory = gillespie.GillespieFactory()\n",
      "# factory = lattice.LatticeFactory(0.005)\n",
      "# factory = meso.MesoscopicFactory(Global(5, 5, 5))\n",
      "# factory = ode.ODEFactory()\n",
      "# factory = bd.BDFactory()\n",
      "factory = egfrd.EGFRDFactory(Global(4, 4, 4))\n",
      "\n",
      "obs1 = NumberObserver([\"A\", \"C\"])\n",
      "run(factory, (obs1, ))"
     ],
     "language": "python",
     "metadata": {},
     "outputs": []
    },
    {
     "cell_type": "code",
     "collapsed": false,
     "input": [
      "obs2 = FixedIntervalNumberObserver(0.2, [\"A\", \"C\"])\n",
      "run(ode.ODEFactory(), (obs2, ))"
     ],
     "language": "python",
     "metadata": {},
     "outputs": []
    },
    {
     "cell_type": "code",
     "collapsed": false,
     "input": [
      "viz.plot_number_observer(obs1, '-', obs2, '--', linewidth='2')"
     ],
     "language": "python",
     "metadata": {},
     "outputs": []
    },
    {
     "cell_type": "code",
     "collapsed": false,
     "input": [],
     "language": "python",
     "metadata": {},
     "outputs": []
    }
   ],
   "metadata": {}
  }
 ]
}