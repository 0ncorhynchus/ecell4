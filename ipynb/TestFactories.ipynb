{
 "metadata": {
  "name": "",
  "signature": "sha256:f1b23b146f8ec060f5d91fc542a66d883a2c3b9b680e6b7881d962b007587015"
 },
 "nbformat": 3,
 "nbformat_minor": 0,
 "worksheets": [
  {
   "cells": [
    {
     "cell_type": "code",
     "collapsed": false,
     "input": [
      "from ecell4.core import *\n",
      "from ecell4.util import *\n",
      "from ecell4 import gillespie, lattice, meso, ode, bd, epdp"
     ],
     "language": "python",
     "metadata": {},
     "outputs": [],
     "prompt_number": 19
    },
    {
     "cell_type": "code",
     "collapsed": false,
     "input": [
      "with species_attributes():\n",
      "    A | B | A_B | {\"radius\": \"0.005\", \"D\": \"1\"}\n",
      "\n",
      "with reaction_rules():\n",
      "    A + B <> A_B | (0.01, 0.3)\n",
      "\n",
      "m = get_model(False)"
     ],
     "language": "python",
     "metadata": {},
     "outputs": [],
     "prompt_number": 20
    },
    {
     "cell_type": "code",
     "collapsed": false,
     "input": [
      "factory = gillespie.GillespieFactory()\n",
      "# factory = lattice.LatticeFactory(0.005)\n",
      "# factory = meso.MesoscopicFactory(Global(5, 5, 5))\n",
      "# factory = ode.ODEFactory()\n",
      "# factory = bd.BDFactory()\n",
      "# factory = epdp.EGFRDFactory(Global(4, 4, 4))"
     ],
     "language": "python",
     "metadata": {},
     "outputs": [],
     "prompt_number": 21
    },
    {
     "cell_type": "code",
     "collapsed": false,
     "input": [
      "w = factory.create_world(Position3(1, 1, 1))\n",
      "w.bind_to(m)\n",
      "w.add_molecules(Species(\"A\"), 60)\n",
      "w.add_molecules(Species(\"B\"), 60)"
     ],
     "language": "python",
     "metadata": {},
     "outputs": [],
     "prompt_number": 22
    },
    {
     "cell_type": "code",
     "collapsed": false,
     "input": [
      "sim = factory.create_simulator(w)\n",
      "obs1 = FixedIntervalNumberObserver(0.2, [\"A\", \"A_B\"])\n",
      "sim.run(5.0, [obs1])"
     ],
     "language": "python",
     "metadata": {},
     "outputs": [],
     "prompt_number": 23
    },
    {
     "cell_type": "code",
     "collapsed": false,
     "input": [
      "import matplotlib.pylab as plt\n",
      "import numpy\n",
      "data = numpy.array(obs1.data()).T\n",
      "plt.plot(data[0], data[1], 'bo-', label=\"A\")\n",
      "plt.plot(data[0], data[2], 'go-', label=\"A_B\")\n",
      "plt.legend(loc=\"best\", shadow=True)\n",
      "plt.xlabel(\"Time\")\n",
      "plt.ylabel(\"The Number of Molecules\")\n",
      "plt.show()"
     ],
     "language": "python",
     "metadata": {},
     "outputs": [
      {
       "metadata": {},
       "output_type": "display_data",
       "png": "[encoded data removed]",
       "text": [
        "<matplotlib.figure.Figure at 0x7f590289e710>"
       ]
      }
     ],
     "prompt_number": 24
    },
    {
     "cell_type": "code",
     "collapsed": false,
     "input": [],
     "language": "python",
     "metadata": {},
     "outputs": [],
     "prompt_number": 24
    }
   ],
   "metadata": {}
  }
 ]
}