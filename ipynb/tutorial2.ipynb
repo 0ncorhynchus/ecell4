{
 "metadata": {
  "name": "Tutorial 2 (Model Basics)"
 },
 "nbformat": 3,
 "nbformat_minor": 0,
 "worksheets": [
  {
   "cells": [
    {
     "cell_type": "markdown",
     "metadata": {},
     "source": "# Tutorial 2 (Model Basics)\n\nThis is a tutorial for E-Cell4. Here, we represent the way of modeling with E-Cell 4."
    },
    {
     "cell_type": "markdown",
     "metadata": {},
     "source": "In E-Cell4, NetworkModel consists of a set of ReactionRules (and Species attributes). First, instantiate NetworkModel."
    },
    {
     "cell_type": "code",
     "collapsed": false,
     "input": "from ecell4.core import *\nm = NetworkModel()",
     "language": "python",
     "metadata": {},
     "outputs": [],
     "prompt_number": 10
    },
    {
     "cell_type": "markdown",
     "metadata": {},
     "source": "Here, you can add five kinds of ReactionRules.\n\n1. create_binding_reaction_rule\n2. create_degradation_reaction_rule\n3. create_synthesis_reaction_rule\n4. create_unbinding_reaction_rule\n5. create_unimolecular_reaction_rule\n\nNow, for the simple binding/unbinding equilibrium model, let's use 1 and 4."
    },
    {
     "cell_type": "code",
     "collapsed": false,
     "input": "rr1 = create_binding_reaction_rule(Species(\"A\"), Species(\"B\"), Species(\"A.B\"), 1.0)\nrr2 = create_unbinding_reaction_rule(Species(\"A.B\"), Species(\"A\"), Species(\"B\"), 1.0)",
     "language": "python",
     "metadata": {},
     "outputs": [],
     "prompt_number": 11
    },
    {
     "cell_type": "markdown",
     "metadata": {},
     "source": "A ReactionRule consists of reactants, products, and a kinetic rate. Of course, you can change the kinetic rate."
    },
    {
     "cell_type": "code",
     "collapsed": false,
     "input": "print len(rr1.reactants()), len(rr1.products()), rr1.k()\nprint len(rr2.reactants()), len(rr2.products()), rr2.k()\nrr2.set_k(2.0)\nprint rr2.k()",
     "language": "python",
     "metadata": {},
     "outputs": [
      {
       "output_type": "stream",
       "stream": "stdout",
       "text": "2 1 1.0\n1 2 1.0\n2.0\n"
      }
     ],
     "prompt_number": 12
    },
    {
     "cell_type": "markdown",
     "metadata": {},
     "source": "Next, add these ReactionRules into a NetworkModel."
    },
    {
     "cell_type": "code",
     "collapsed": false,
     "input": "m.add_reaction_rule(rr1)\nm.add_reaction_rule(rr2)\nprint m.num_reaction_rules()\nprint m.has_reaction_rule(rr1), m.has_reaction_rule(rr2)",
     "language": "python",
     "metadata": {},
     "outputs": [
      {
       "output_type": "stream",
       "stream": "stdout",
       "text": "2\nTrue True\n"
      }
     ],
     "prompt_number": 13
    },
    {
     "cell_type": "markdown",
     "metadata": {},
     "source": "NetworkModel returns appropriate ReactionRules from the given Species through APIs named query_reaction_rules."
    },
    {
     "cell_type": "code",
     "collapsed": false,
     "input": "print m.query_reaction_rules(Species(\"A.B\"))\nprint m.query_reaction_rules(Species(\"A\"))\nprint m.query_reaction_rules(Species(\"A\"), Species(\"B\"))\nprint m.query_reaction_rules(Species(\"B\"), Species(\"A\"))",
     "language": "python",
     "metadata": {},
     "outputs": [
      {
       "output_type": "stream",
       "stream": "stdout",
       "text": "[<ecell4.core.ReactionRule object at 0x7f38e7745978>]\n[]\n[<ecell4.core.ReactionRule object at 0x7f38e7745990>]\n[<ecell4.core.ReactionRule object at 0x7f38e77459a8>]\n"
      }
     ],
     "prompt_number": 14
    },
    {
     "cell_type": "markdown",
     "metadata": {},
     "source": "NetworkModel also contains Species attributes. These attributes are indispensable for particle and lattice simulations, but not necessarily needed for gillespie and ode."
    },
    {
     "cell_type": "code",
     "collapsed": false,
     "input": "sp1 = Species(\"A\")\nsp1.set_attribute(\"radius\", \"0.0025\")\nsp1.set_attribute(\"D\", \"1\")\nm.add_species_attribute(sp1)\n# m.add_species_attribute(Species(\"A\", \"0.0025\", \"1\"))",
     "language": "python",
     "metadata": {},
     "outputs": [],
     "prompt_number": 15
    },
    {
     "cell_type": "markdown",
     "metadata": {},
     "source": "NetworkModel attributes a Species based on the registered Species."
    },
    {
     "cell_type": "code",
     "collapsed": false,
     "input": "print m.has_species_attribute(Species(\"A\"))\nsp2 = m.apply_species_attributes(Species(\"A\"))\nprint sp2.has_attribute(\"radius\"), sp2.has_attribute(\"D\")\nprint sp2.get_attribute(\"radius\"), sp2.get_attribute(\"D\")",
     "language": "python",
     "metadata": {},
     "outputs": [
      {
       "output_type": "stream",
       "stream": "stdout",
       "text": "True\nTrue True\n0.0025 1\n"
      }
     ],
     "prompt_number": 16
    },
    {
     "cell_type": "code",
     "collapsed": false,
     "input": "",
     "language": "python",
     "metadata": {},
     "outputs": [],
     "prompt_number": 16
    }
   ],
   "metadata": {}
  }
 ]
}