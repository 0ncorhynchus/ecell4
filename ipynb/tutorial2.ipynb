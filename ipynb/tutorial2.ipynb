{
 "metadata": {
  "name": ""
 },
 "nbformat": 3,
 "nbformat_minor": 0,
 "worksheets": [
  {
   "cells": [
    {
     "cell_type": "markdown",
     "metadata": {},
     "source": [
      "# Tutorial 2 (Model Basics)\n",
      "\n",
      "This is a tutorial for E-Cell4. Here, we represent the way of modeling with E-Cell 4."
     ]
    },
    {
     "cell_type": "markdown",
     "metadata": {},
     "source": [
      "In E-Cell4, NetworkModel consists of a set of ReactionRules (and Species attributes). First, instantiate NetworkModel."
     ]
    },
    {
     "cell_type": "code",
     "collapsed": false,
     "input": [
      "from ecell4.core import *\n",
      "m = NetworkModel()"
     ],
     "language": "python",
     "metadata": {},
     "outputs": [],
     "prompt_number": 1
    },
    {
     "cell_type": "markdown",
     "metadata": {},
     "source": [
      "Here, you can add five kinds of ReactionRules.\n",
      "\n",
      "1. create_binding_reaction_rule\n",
      "2. create_degradation_reaction_rule\n",
      "3. create_synthesis_reaction_rule\n",
      "4. create_unbinding_reaction_rule\n",
      "5. create_unimolecular_reaction_rule\n",
      "\n",
      "Now, for the simple binding/unbinding equilibrium model, let's use 1 and 4."
     ]
    },
    {
     "cell_type": "code",
     "collapsed": false,
     "input": [
      "rr1 = create_binding_reaction_rule(Species(\"A\"), Species(\"B\"), Species(\"A.B\"), 1.0)\n",
      "rr2 = create_unbinding_reaction_rule(Species(\"A.B\"), Species(\"A\"), Species(\"B\"), 1.0)"
     ],
     "language": "python",
     "metadata": {},
     "outputs": [],
     "prompt_number": 2
    },
    {
     "cell_type": "markdown",
     "metadata": {},
     "source": [
      "A ReactionRule consists of reactants, products, and a kinetic rate. Of course, you can change the kinetic rate."
     ]
    },
    {
     "cell_type": "code",
     "collapsed": false,
     "input": [
      "print len(rr1.reactants()), len(rr1.products()), rr1.k()\n",
      "print len(rr2.reactants()), len(rr2.products()), rr2.k()\n",
      "rr2.set_k(2.0)\n",
      "print rr2.k()"
     ],
     "language": "python",
     "metadata": {},
     "outputs": [
      {
       "output_type": "stream",
       "stream": "stdout",
       "text": [
        "2 1 1.0\n",
        "1 2 1.0\n",
        "2.0\n"
       ]
      }
     ],
     "prompt_number": 3
    },
    {
     "cell_type": "markdown",
     "metadata": {},
     "source": [
      "Next, add these ReactionRules into a NetworkModel."
     ]
    },
    {
     "cell_type": "code",
     "collapsed": false,
     "input": [
      "m.add_reaction_rule(rr1)\n",
      "m.add_reaction_rule(rr2)\n",
      "print m.num_reaction_rules()\n",
      "print m.has_reaction_rule(rr1), m.has_reaction_rule(rr2)"
     ],
     "language": "python",
     "metadata": {},
     "outputs": [
      {
       "output_type": "stream",
       "stream": "stdout",
       "text": [
        "2\n",
        "True True\n"
       ]
      }
     ],
     "prompt_number": 4
    },
    {
     "cell_type": "markdown",
     "metadata": {},
     "source": [
      "NetworkModel returns appropriate ReactionRules from the given Species through APIs named query_reaction_rules."
     ]
    },
    {
     "cell_type": "code",
     "collapsed": false,
     "input": [
      "print m.query_reaction_rules(Species(\"A.B\"))\n",
      "print m.query_reaction_rules(Species(\"A\"))\n",
      "print m.query_reaction_rules(Species(\"A\"), Species(\"B\"))\n",
      "print m.query_reaction_rules(Species(\"B\"), Species(\"A\"))"
     ],
     "language": "python",
     "metadata": {},
     "outputs": [
      {
       "output_type": "stream",
       "stream": "stdout",
       "text": [
        "[<ecell4.core.ReactionRule object at 0x7f162ca4b948>]\n",
        "[]\n",
        "[<ecell4.core.ReactionRule object at 0x7f162ca4b978>]\n",
        "[<ecell4.core.ReactionRule object at 0x7f162ca4b930>]\n"
       ]
      }
     ],
     "prompt_number": 5
    },
    {
     "cell_type": "markdown",
     "metadata": {},
     "source": [
      "NetworkModel also contains Species attributes. These attributes are indispensable for particle and lattice simulations, but not necessarily needed for gillespie and ode."
     ]
    },
    {
     "cell_type": "code",
     "collapsed": false,
     "input": [
      "sp1 = Species(\"A\")\n",
      "sp1.set_attribute(\"radius\", \"0.0025\")\n",
      "sp1.set_attribute(\"D\", \"1\")\n",
      "m.add_species_attribute(sp1)\n",
      "# m.add_species_attribute(Species(\"A\", \"0.0025\", \"1\"))"
     ],
     "language": "python",
     "metadata": {},
     "outputs": [],
     "prompt_number": 6
    },
    {
     "cell_type": "markdown",
     "metadata": {},
     "source": [
      "NetworkModel attributes a Species based on the registered Species."
     ]
    },
    {
     "cell_type": "code",
     "collapsed": false,
     "input": [
      "print m.has_species_attribute(Species(\"A\"))\n",
      "sp2 = m.apply_species_attributes(Species(\"A\"))\n",
      "print sp2.has_attribute(\"radius\"), sp2.has_attribute(\"D\")\n",
      "print sp2.get_attribute(\"radius\"), sp2.get_attribute(\"D\")"
     ],
     "language": "python",
     "metadata": {},
     "outputs": [
      {
       "output_type": "stream",
       "stream": "stdout",
       "text": [
        "True\n",
        "True True\n",
        "0.0025 1\n"
       ]
      }
     ],
     "prompt_number": 7
    },
    {
     "cell_type": "code",
     "collapsed": false,
     "input": [],
     "language": "python",
     "metadata": {},
     "outputs": [],
     "prompt_number": 7
    }
   ],
   "metadata": {}
  }
 ]
}