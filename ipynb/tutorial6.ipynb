{
 "metadata": {
  "name": "Tutorial 6 (World Advanced)"
 },
 "nbformat": 3,
 "nbformat_minor": 0,
 "worksheets": [
  {
   "cells": [
    {
     "cell_type": "markdown",
     "metadata": {},
     "source": "# Tutorial 6 (World Advanced)\n\nThis is a tutorial for E-Cell4."
    },
    {
     "cell_type": "code",
     "collapsed": false,
     "input": "from ecell4.core import *\nfrom ecell4.gillespie import GillespieWorld\nfrom ecell4.ode import ODEWorld\nfrom ecell4.lattice import LatticeWorld\nfrom ecell4.bd import BDWorld\n\nedge_lengths = Position3(1, 2, 3)",
     "language": "python",
     "metadata": {},
     "outputs": [],
     "prompt_number": 45
    },
    {
     "cell_type": "code",
     "collapsed": false,
     "input": "m = NetworkModel()\nm.add_species_attribute(Species(\"A\", \"0.0025\", \"1\"))",
     "language": "python",
     "metadata": {},
     "outputs": [],
     "prompt_number": 46
    },
    {
     "cell_type": "markdown",
     "metadata": {},
     "source": "`ParticleSpace` interfaces:"
    },
    {
     "cell_type": "code",
     "collapsed": false,
     "input": "w = BDWorld(edge_lengths)\n# w = LatticeWorld(edge_lengths)\nw.bind_to(m)",
     "language": "python",
     "metadata": {},
     "outputs": [],
     "prompt_number": 47
    },
    {
     "cell_type": "markdown",
     "metadata": {},
     "source": "Create a new particle. `new_particle` returns a pair of `ParticleID` and `Particle` with if the creation is succeeded or not."
    },
    {
     "cell_type": "code",
     "collapsed": false,
     "input": "((pid, p), is_succeeded) = w.new_particle(Species(\"A\"), Position3(0.5, 0.5, 0.5))",
     "language": "python",
     "metadata": {},
     "outputs": [],
     "prompt_number": 48
    },
    {
     "cell_type": "code",
     "collapsed": false,
     "input": "print pid, p, is_succeeded\nprint w.num_molecules(Species(\"A\"))",
     "language": "python",
     "metadata": {},
     "outputs": [
      {
       "output_type": "stream",
       "stream": "stdout",
       "text": "<ecell4.core.ParticleID object at 0x7f114e57ea68> <ecell4.core.Particle object at 0x7f114e57e930> True\n1\n"
      }
     ],
     "prompt_number": 49
    },
    {
     "cell_type": "markdown",
     "metadata": {},
     "source": "`ParticleID` is a pair of `Integer`s named `serial` and `lot`. `Particle` consists of `species`, `position`, `radius`, `D`."
    },
    {
     "cell_type": "code",
     "collapsed": false,
     "input": "print pid.serial(), pid.lot()\nprint p.species().serial(), tuple(p.position()), p.radius(), p.D()",
     "language": "python",
     "metadata": {},
     "outputs": [
      {
       "output_type": "stream",
       "stream": "stdout",
       "text": "1 0\nA (0.5, 0.5, 0.5) 0.0025 1.0\n"
      }
     ],
     "prompt_number": 50
    },
    {
     "cell_type": "markdown",
     "metadata": {},
     "source": "`ParticleSpace` has interfaces to check if the `ParticleID` exists (`has_particle`), to list all particles belonging to the `Species` (`list_particles`), and to get `Particle` assigned to the given `ParticleID` (`get_particle`)."
    },
    {
     "cell_type": "code",
     "collapsed": false,
     "input": "print w.has_particle(pid)\nprint w.list_particles(Species(\"A\"))\nprint w.get_particle(pid)",
     "language": "python",
     "metadata": {},
     "outputs": [
      {
       "output_type": "stream",
       "stream": "stdout",
       "text": "True\n[(<ecell4.core.ParticleID object at 0x7f114e57e9d8>, <ecell4.core.Particle object at 0x7f114e57e978>)]\n(<ecell4.core.ParticleID object at 0x7f114e57e9d8>, <ecell4.core.Particle object at 0x7f114e57ea38>)\n"
      }
     ],
     "prompt_number": 51
    },
    {
     "cell_type": "markdown",
     "metadata": {},
     "source": "To move a `Particle` to the new position, use `update_particle`. `update_particle` tries to replace the `Particle` with given one."
    },
    {
     "cell_type": "code",
     "collapsed": false,
     "input": "w.update_particle(pid, Particle(p.species(), Position3(0.5, 1.5, 2.5), p.radius(), p.D()))\n_, newp = w.get_particle(pid)\nprint tuple(newp.position()), w.num_molecules(Species(\"A\"))",
     "language": "python",
     "metadata": {},
     "outputs": [
      {
       "output_type": "stream",
       "stream": "stdout",
       "text": "(0.5, 1.5, 2.5) 1\n"
      }
     ],
     "prompt_number": 52
    },
    {
     "cell_type": "markdown",
     "metadata": {},
     "source": "You can remove a `Particle` by `remove_particle`."
    },
    {
     "cell_type": "code",
     "collapsed": false,
     "input": "w.remove_particle(pid)\nprint w.has_particle(pid)",
     "language": "python",
     "metadata": {},
     "outputs": [
      {
       "output_type": "stream",
       "stream": "stdout",
       "text": "False\n"
      }
     ],
     "prompt_number": 53
    },
    {
     "cell_type": "code",
     "collapsed": false,
     "input": "del w",
     "language": "python",
     "metadata": {},
     "outputs": [],
     "prompt_number": 54
    },
    {
     "cell_type": "markdown",
     "metadata": {},
     "source": "`LatticeSpace` interfaces:"
    },
    {
     "cell_type": "code",
     "collapsed": false,
     "input": "w = LatticeWorld(edge_lengths)\nw.bind_to(m)",
     "language": "python",
     "metadata": {},
     "outputs": [],
     "prompt_number": 55
    },
    {
     "cell_type": "markdown",
     "metadata": {},
     "source": "`LatticeSpace` has interfaces to give essential information about it."
    },
    {
     "cell_type": "code",
     "collapsed": false,
     "input": "print w.voxel_radius(), w.row_size(), w.col_size(), w.layer_size()",
     "language": "python",
     "metadata": {},
     "outputs": [
      {
       "output_type": "stream",
       "stream": "stdout",
       "text": "0.01 150 61 115\n"
      }
     ],
     "prompt_number": 56
    },
    {
     "cell_type": "markdown",
     "metadata": {},
     "source": "Positions in `LatticeSpace` is represented as a single `Integer` named `coordinate`, which is corresponding to `Position3` (`position`) in `ParticleSpace`. `coordinate2position` and `position2coordinate` give the way to convert between them."
    },
    {
     "cell_type": "code",
     "collapsed": false,
     "input": "coord = w.position2coordinate(Position3(0.5, 0.5, 0.5))\npos = w.coordinate2position(coord)\nnew_coord = w.position2coordinate(pos)\n\nprint coord, tuple(pos)\nprint new_coord, tuple(w.coordinate2position(new_coord))\nprint w.position2coordinate(Position3(0.5, 1.5, 2.5))",
     "language": "python",
     "metadata": {},
     "outputs": [
      {
       "output_type": "stream",
       "stream": "stdout",
       "text": "260725 (0.48989794855663565, 0.48497422611928565, 0.5)\n260725 (0.48989794855663565, 0.48497422611928565, 0.5)\n791525\n"
      }
     ],
     "prompt_number": 57
    },
    {
     "cell_type": "markdown",
     "metadata": {},
     "source": "Interfaces similar to `ParticleSpace` are available in `LatticeSpace`."
    },
    {
     "cell_type": "code",
     "collapsed": false,
     "input": "((pid, v), is_succeeded) = w.new_voxel(Species(\"A\"), coord)",
     "language": "python",
     "metadata": {},
     "outputs": [],
     "prompt_number": 58
    },
    {
     "cell_type": "code",
     "collapsed": false,
     "input": "print pid, v, is_succeeded\nprint w.num_molecules(Species(\"A\"))",
     "language": "python",
     "metadata": {},
     "outputs": [
      {
       "output_type": "stream",
       "stream": "stdout",
       "text": "<ecell4.core.ParticleID object at 0x7f114e57e978> <ecell4.core.Voxel object at 0x7f114e57ea20> True\n1\n"
      }
     ],
     "prompt_number": 59
    },
    {
     "cell_type": "code",
     "collapsed": false,
     "input": "print v.species().serial(), v.coordinate(), v.radius(), v.D()",
     "language": "python",
     "metadata": {},
     "outputs": [
      {
       "output_type": "stream",
       "stream": "stdout",
       "text": "A 260725 0.0025 1.0\n"
      }
     ],
     "prompt_number": 60
    },
    {
     "cell_type": "code",
     "collapsed": false,
     "input": "print w.has_particle(pid)\nprint w.list_voxels(Species(\"A\"))\nprint w.get_voxel(pid)",
     "language": "python",
     "metadata": {},
     "outputs": [
      {
       "output_type": "stream",
       "stream": "stdout",
       "text": "True\n[(<ecell4.core.ParticleID object at 0x7f114e57ea68>, <ecell4.core.Voxel object at 0x7f114e57ea38>)]\n(<ecell4.core.ParticleID object at 0x7f114e57ea68>, <ecell4.core.Voxel object at 0x7f114e57ea80>)\n"
      }
     ],
     "prompt_number": 61
    },
    {
     "cell_type": "code",
     "collapsed": false,
     "input": "w.update_voxel(pid, Voxel(v.species(), 791525, v.radius(), v.D()))\n_, newv = w.get_voxel(pid)\nprint newv.coordinate(), w.num_molecules(Species(\"A\"))",
     "language": "python",
     "metadata": {},
     "outputs": [
      {
       "output_type": "stream",
       "stream": "stdout",
       "text": "791525 1\n"
      }
     ],
     "prompt_number": 62
    },
    {
     "cell_type": "code",
     "collapsed": false,
     "input": "w.remove_voxel(pid)\nprint w.has_voxel(pid)",
     "language": "python",
     "metadata": {},
     "outputs": [
      {
       "output_type": "stream",
       "stream": "stdout",
       "text": "False\n"
      }
     ],
     "prompt_number": 63
    },
    {
     "cell_type": "markdown",
     "metadata": {},
     "source": "`RandomNumberGenerator` interfaces:"
    },
    {
     "cell_type": "code",
     "collapsed": false,
     "input": "rng1, rng2 = GSLRandomNumberGenerator(), GSLRandomNumberGenerator()\nrng1.seed(0)\nrng2.seed(0)\nprint rng1.uniform(0, 1), rng2.uniform(0, 1)\nprint rng1.uniform_int(0, 100), rng2.uniform_int(0, 100)\nprint rng1.gaussian(0.0, 1.0), rng2.gaussian(0.0, 1.0)",
     "language": "python",
     "metadata": {},
     "outputs": [
      {
       "output_type": "stream",
       "stream": "stdout",
       "text": "0.999741748907 0.999741748907\n16 16\n0.133918608119 0.133918608119\n"
      }
     ],
     "prompt_number": 64
    },
    {
     "cell_type": "markdown",
     "metadata": {},
     "source": "`GillespieWorld`, `LatticeWorld` and `BDWorld` can be constructed with a `GSLRandomNumberGenerator`. `rng()` returns a shared object of `RandomNumberGenerator`. In below, `w.rng()` and `rng1` point the same `RandomNumberGenerator`."
    },
    {
     "cell_type": "code",
     "collapsed": false,
     "input": "w = GillespieWorld(Position3(1, 1, 1), rng1)\n# w = BDWorld(Position3(1, 1, 1), rng1)\n# w = LatticeWorld(Position3(1, 1, 1), 0.05, rng1) # The second argument is voxel_radius.",
     "language": "python",
     "metadata": {},
     "outputs": [],
     "prompt_number": 65
    },
    {
     "cell_type": "code",
     "collapsed": false,
     "input": "print w.rng().uniform(0, 1), rng2.uniform(0, 1), rng1.uniform(0, 1)",
     "language": "python",
     "metadata": {},
     "outputs": [
      {
       "output_type": "stream",
       "stream": "stdout",
       "text": "0.231656542746 0.231656542746 0.484973614337\n"
      }
     ],
     "prompt_number": 66
    },
    {
     "cell_type": "code",
     "collapsed": false,
     "input": "del rng1, rng2\nprint w.rng().uniform(0, 1)\ndel w",
     "language": "python",
     "metadata": {},
     "outputs": [
      {
       "output_type": "stream",
       "stream": "stdout",
       "text": "0.957476956537\n"
      }
     ],
     "prompt_number": 67
    },
    {
     "cell_type": "code",
     "collapsed": false,
     "input": "",
     "language": "python",
     "metadata": {},
     "outputs": [],
     "prompt_number": 67
    }
   ],
   "metadata": {}
  }
 ]
}