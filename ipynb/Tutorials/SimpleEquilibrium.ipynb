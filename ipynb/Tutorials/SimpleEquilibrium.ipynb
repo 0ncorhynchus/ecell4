{
 "metadata": {
  "name": "",
  "signature": "sha256:2ce957bc9893e26cb82c74bef4866e3bc8c60ce16d052392f6a7f1d1468602f5"
 },
 "nbformat": 3,
 "nbformat_minor": 0,
 "worksheets": [
  {
   "cells": [
    {
     "cell_type": "markdown",
     "metadata": {},
     "source": [
      "# Tutorial 5 (Example 1)\n",
      "\n",
      "This is a tutorial for E-Cell4. Here, we show a simple equilibrium model as an example."
     ]
    },
    {
     "cell_type": "code",
     "collapsed": false,
     "input": [
      "%matplotlib inline"
     ],
     "language": "python",
     "metadata": {},
     "outputs": [],
     "prompt_number": 8
    },
    {
     "cell_type": "code",
     "collapsed": true,
     "input": [
      "from ecell4.core import *\n",
      "# from ecell4.gillespie import GillespieWorld as world_type, GillespieSimulator as simulator_type\n",
      "# from ecell4.ode import ODEWorld as world_type, ODESimulator as simulator_type\n",
      "# from ecell4.lattice import LatticeWorld as world_type, LatticeSimulator as simulator_type\n",
      "# from ecell4.bd import BDWorld as world_type, BDSimulator as simulator_type\n",
      "# from ecell4.meso import MesoscopicWorld as world_type, MesoscopicSimulator as simulator_type\n",
      "from ecell4.egfrd import EGFRDWorld as world_type, EGFRDSimulator as simulator_type"
     ],
     "language": "python",
     "metadata": {},
     "outputs": [],
     "prompt_number": 9
    },
    {
     "cell_type": "markdown",
     "metadata": {},
     "source": [
      "Set up parameters:"
     ]
    },
    {
     "cell_type": "code",
     "collapsed": true,
     "input": [
      "L, N, kd, U, D, radius = 1.0, 60, 0.1, 0.5, \"1\", \"0.01\"\n",
      "volume = L * L * L\n",
      "ka = kd * volume * (1 - U) / (U * U * N)\n",
      "\n",
      "sp1, sp2, sp3 = Species(\"A\", radius, D), Species(\"B\", radius, D), Species(\"A_B\", radius, D)\n",
      "rr1, rr2 = create_binding_reaction_rule(sp1, sp2, sp3, ka), create_unbinding_reaction_rule(sp3, sp1, sp2, kd)"
     ],
     "language": "python",
     "metadata": {},
     "outputs": [],
     "prompt_number": 10
    },
    {
     "cell_type": "markdown",
     "metadata": {},
     "source": [
      "Create a model:"
     ]
    },
    {
     "cell_type": "code",
     "collapsed": true,
     "input": [
      "m = NetworkModel()\n",
      "m.add_species_attribute(sp1)\n",
      "m.add_species_attribute(sp2)\n",
      "m.add_species_attribute(sp3)\n",
      "m.add_reaction_rule(rr1)\n",
      "m.add_reaction_rule(rr2)"
     ],
     "language": "python",
     "metadata": {},
     "outputs": [],
     "prompt_number": 11
    },
    {
     "cell_type": "markdown",
     "metadata": {},
     "source": [
      "Create a world and simulator:"
     ]
    },
    {
     "cell_type": "code",
     "collapsed": true,
     "input": [
      "w = world_type(Real3(L, L, L))\n",
      "w.bind_to(m)\n",
      "w.add_molecules(Species(\"A\"), N)\n",
      "w.add_molecules(Species(\"B\"), N)\n",
      "\n",
      "sim = simulator_type(m, w)\n",
      "sim.set_dt(1e-3) #XXX: This is too large to get the accurate result with BDSimulator."
     ],
     "language": "python",
     "metadata": {},
     "outputs": [],
     "prompt_number": 12
    },
    {
     "cell_type": "markdown",
     "metadata": {},
     "source": [
      "Run a simulation:"
     ]
    },
    {
     "cell_type": "code",
     "collapsed": true,
     "input": [
      "next_time, dt = 0.0, 0.05\n",
      "data = [(w.t(), w.num_molecules(sp1), w.num_molecules(sp2), w.num_molecules(sp3))]\n",
      "for i in range(100):\n",
      "    next_time += dt\n",
      "    while (sim.step(next_time)): pass\n",
      "    data.append((w.t(), w.num_molecules(sp1), w.num_molecules(sp2), w.num_molecules(sp3)))"
     ],
     "language": "python",
     "metadata": {},
     "outputs": [
      {
       "ename": "KeyboardInterrupt",
       "evalue": "",
       "output_type": "pyerr",
       "traceback": [
        "\u001b[1;31m---------------------------------------------------------------------------\u001b[0m\n\u001b[1;31mKeyboardInterrupt\u001b[0m                         Traceback (most recent call last)",
        "\u001b[1;32m<ipython-input-13-3b4a01d3fb73>\u001b[0m in \u001b[0;36m<module>\u001b[1;34m()\u001b[0m\n\u001b[0;32m      3\u001b[0m \u001b[1;32mfor\u001b[0m \u001b[0mi\u001b[0m \u001b[1;32min\u001b[0m \u001b[0mrange\u001b[0m\u001b[1;33m(\u001b[0m\u001b[1;36m100\u001b[0m\u001b[1;33m)\u001b[0m\u001b[1;33m:\u001b[0m\u001b[1;33m\u001b[0m\u001b[0m\n\u001b[0;32m      4\u001b[0m     \u001b[0mnext_time\u001b[0m \u001b[1;33m+=\u001b[0m \u001b[0mdt\u001b[0m\u001b[1;33m\u001b[0m\u001b[0m\n\u001b[1;32m----> 5\u001b[1;33m     \u001b[1;32mwhile\u001b[0m \u001b[1;33m(\u001b[0m\u001b[0msim\u001b[0m\u001b[1;33m.\u001b[0m\u001b[0mstep\u001b[0m\u001b[1;33m(\u001b[0m\u001b[0mnext_time\u001b[0m\u001b[1;33m)\u001b[0m\u001b[1;33m)\u001b[0m\u001b[1;33m:\u001b[0m \u001b[1;32mpass\u001b[0m\u001b[1;33m\u001b[0m\u001b[0m\n\u001b[0m\u001b[0;32m      6\u001b[0m     \u001b[0mdata\u001b[0m\u001b[1;33m.\u001b[0m\u001b[0mappend\u001b[0m\u001b[1;33m(\u001b[0m\u001b[1;33m(\u001b[0m\u001b[0mw\u001b[0m\u001b[1;33m.\u001b[0m\u001b[0mt\u001b[0m\u001b[1;33m(\u001b[0m\u001b[1;33m)\u001b[0m\u001b[1;33m,\u001b[0m \u001b[0mw\u001b[0m\u001b[1;33m.\u001b[0m\u001b[0mnum_molecules\u001b[0m\u001b[1;33m(\u001b[0m\u001b[0msp1\u001b[0m\u001b[1;33m)\u001b[0m\u001b[1;33m,\u001b[0m \u001b[0mw\u001b[0m\u001b[1;33m.\u001b[0m\u001b[0mnum_molecules\u001b[0m\u001b[1;33m(\u001b[0m\u001b[0msp2\u001b[0m\u001b[1;33m)\u001b[0m\u001b[1;33m,\u001b[0m \u001b[0mw\u001b[0m\u001b[1;33m.\u001b[0m\u001b[0mnum_molecules\u001b[0m\u001b[1;33m(\u001b[0m\u001b[0msp3\u001b[0m\u001b[1;33m)\u001b[0m\u001b[1;33m)\u001b[0m\u001b[1;33m)\u001b[0m\u001b[1;33m\u001b[0m\u001b[0m\n",
        "\u001b[1;31mKeyboardInterrupt\u001b[0m: "
       ]
      }
     ],
     "prompt_number": 13
    },
    {
     "cell_type": "markdown",
     "metadata": {},
     "source": [
      "Plot with Matplotlib:"
     ]
    },
    {
     "cell_type": "code",
     "collapsed": false,
     "input": [
      "import matplotlib.pylab as plt\n",
      "from numpy import array\n",
      "\n",
      "data = array(data)\n",
      "plt.plot(data.T[0], data.T[1], \"r-\", label=sp1.serial())\n",
      "plt.plot(data.T[0], data.T[2], \"g--\", label=sp2.serial())\n",
      "plt.plot(data.T[0], data.T[3], \"b:\", label=sp3.serial())\n",
      "plt.xlabel(\"Time\")\n",
      "plt.ylabel(\"Number Of Molecules\")\n",
      "plt.xlim(data.T[0][0], data.T[0][-1])\n",
      "plt.legend(loc=\"best\", shadow=True)\n",
      "plt.show()"
     ],
     "language": "python",
     "metadata": {},
     "outputs": []
    },
    {
     "cell_type": "code",
     "collapsed": false,
     "input": [],
     "language": "python",
     "metadata": {},
     "outputs": []
    }
   ],
   "metadata": {}
  }
 ]
}