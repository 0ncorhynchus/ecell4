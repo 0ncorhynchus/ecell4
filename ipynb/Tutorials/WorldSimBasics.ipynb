{
 "cells": [
  {
   "cell_type": "markdown",
   "metadata": {},
   "source": [
    "## World and Simulator with ODE solver\n",
    "\n",
    "If you read through Model basics, it is NOT difficult to use **World** and **Simulator**.\n",
    "**volume** and **{'C':60}** is equivalent of the **World** and **solver** is the **Simulator** below."
   ]
  },
  {
   "cell_type": "code",
   "execution_count": null,
   "metadata": {
    "collapsed": true
   },
   "outputs": [],
   "source": [
    "import numpy\n",
    "from ecell4 import *\n",
    "\n",
    "with reaction_rules():\n",
    "    A + B == C | (0.01, 0.3)\n",
    "\n",
    "y = run_simulation(numpy.linspace(0, 10, 100), {'C': 60}, volume=1.0)\n"
   ]
  },
  {
   "cell_type": "markdown",
   "metadata": {},
   "source": [
    "Here we give you a breakdown for **run_simulation**.\n",
    "**run_simulation** use ODE simulator by default, so we create ODE world step by step."
   ]
  },
  {
   "cell_type": "markdown",
   "metadata": {},
   "source": [
    "## Creating ODE world"
   ]
  },
  {
   "cell_type": "markdown",
   "metadata": {},
   "source": [
    "You can create world like this."
   ]
  },
  {
   "cell_type": "code",
   "execution_count": null,
   "metadata": {
    "collapsed": true
   },
   "outputs": [],
   "source": [
    "from ecell4 import core\n",
    "from ecell4 import ode\n",
    "w = ode.ODEWorld(Real3(1, 1, 1))"
   ]
  },
  {
   "cell_type": "markdown",
   "metadata": {},
   "source": [
    "**Real3** is a coordinate vector.\n",
    "In this example, the first argument for ODEWorld constructor is a cube.\n",
    "Note that you can NOT use volume for ode.ODEWorld argument, like **run_simulation** argument.\n",
    "\n",
    "Now you created a cube box for simulation, next let's throw in molecules into it."
   ]
  },
  {
   "cell_type": "code",
   "execution_count": null,
   "metadata": {
    "collapsed": true
   },
   "outputs": [],
   "source": [
    "from ecell4 import core\n",
    "from ecell4 import ode\n",
    "w = ode.ODEWorld(Real3(1, 1, 1))\n",
    "w.add_molecules(Species('C'), 60)\n",
    "print(w.t(), w.num_molecules(Species('C')))  # will return (0.0, 60)"
   ]
  },
  {
   "cell_type": "markdown",
   "metadata": {
    "collapsed": true
   },
   "source": [
    "Use **add_molecules** to add molecules, **remove_molecules** to remove molecules, **num_molecules** to know the number of molecules.\n",
    "First argument for each method is the **Species** you want to know.\n",
    "You can get current time by **t** method.\n",
    "However the number of molecules in ODE solver is real number, in these **_molecules** functions work only for integer number.\n",
    "If you use real number in ODE, use **set_value** and **get_value**.\n"
   ]
  },
  {
   "cell_type": "markdown",
   "metadata": {},
   "source": [
    "## How to use Real3"
   ]
  },
  {
   "cell_type": "code",
   "execution_count": null,
   "metadata": {
    "collapsed": true
   },
   "outputs": [],
   "source": []
  }
 ],
 "metadata": {
  "kernelspec": {
   "display_name": "Python 2",
   "language": "python",
   "name": "python2"
  },
  "language_info": {
   "codemirror_mode": {
    "name": "ipython",
    "version": 2
   },
   "file_extension": ".py",
   "mimetype": "text/x-python",
   "name": "python",
   "nbconvert_exporter": "python",
   "pygments_lexer": "ipython2",
   "version": "2.7.6"
  }
 },
 "nbformat": 4,
 "nbformat_minor": 0
}
