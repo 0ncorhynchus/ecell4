{
 "cells": [
  {
   "cell_type": "markdown",
   "metadata": {},
   "source": [
    "# Tutorial 1 (Model)\n",
    "\n",
    "This is a tutorial for E-Cell4. Here, we represent the way of modeling with E-Cell 4."
   ]
  },
  {
   "cell_type": "markdown",
   "metadata": {},
   "source": [
    "## Species\n",
    "\n",
    "We'll show you how to create **Species**."
   ]
  },
  {
   "cell_type": "code",
   "execution_count": 8,
   "metadata": {
    "collapsed": true
   },
   "outputs": [],
   "source": [
    "from ecell4 import *\n",
    "\n",
    "A = Species(\"A\")\n",
    "B = Species(\"B\")"
   ]
  },
  {
   "cell_type": "markdown",
   "metadata": {},
   "source": [
    "each expression describes a **Species** named **A** or **B**.\n",
    "**A** describes not a specific molecule, but a type of molecule.\n",
    "#### Caution\n",
    "Species name(we call this **Serial**) has a number of naming rules,\n",
    "The naming requires attention to use special symbol '()', '.', '_', numbers, and space.\n",
    "\n",
    "<hr>"
   ]
  },
  {
   "cell_type": "markdown",
   "metadata": {},
   "source": [
    "You can add attributes to Species,"
   ]
  },
  {
   "cell_type": "code",
   "execution_count": 9,
   "metadata": {
    "collapsed": true
   },
   "outputs": [],
   "source": [
    "A = Species(\"A\")\n",
    "A.set_attribute(\"radius\", \"0.005\")\n",
    "A.set_attribute(\"D\", \"1\")\n",
    "A.set_attribute(\"location\", \"cytoplasm\")"
   ]
  },
  {
   "cell_type": "markdown",
   "metadata": {},
   "source": [
    "The 1st argument for **set_attribute** is the name of attribute.\n",
    "The 2nd argument is the value.\n",
    "Both have got to be string.\n",
    "\n",
    "Radius, diffusion coefficient, location are frequently used, so there is a shortcut for this."
   ]
  },
  {
   "cell_type": "code",
   "execution_count": 10,
   "metadata": {
    "collapsed": true
   },
   "outputs": [],
   "source": [
    "A = Species(\"A\", \"0.005\", \"1\", \"cytoplasm\")  # XXX: serial, radius, D, location"
   ]
  },
  {
   "cell_type": "markdown",
   "metadata": {},
   "source": [
    "When you want to inspect the **Species** attributes, please write as follows."
   ]
  },
  {
   "cell_type": "code",
   "execution_count": 12,
   "metadata": {
    "collapsed": false
   },
   "outputs": [
    {
     "name": "stdout",
     "output_type": "stream",
     "text": [
      "A\n",
      "1\n"
     ]
    }
   ],
   "source": [
    "print(A.serial())  # will return 'A'\n",
    "print(A.get_attribute(\"D\"))  # will return '1'"
   ]
  },
  {
   "cell_type": "markdown",
   "metadata": {},
   "source": [
    "## ReactionRule\n",
    "ReactionRule describes the transition of the molecule types from **Reactants** to **Products**. ReactionRule requires at least a kinetic rate attribute, this has to be number."
   ]
  },
  {
   "cell_type": "code",
   "execution_count": 14,
   "metadata": {
    "collapsed": true
   },
   "outputs": [],
   "source": [
    "rr = ReactionRule()\n",
    "rr.add_reactant(Species(\"A\"))\n",
    "rr.add_product(Species(\"B\"))\n",
    "rr.set_k(1.0)"
   ]
  },
  {
   "cell_type": "markdown",
   "metadata": {},
   "source": [
    "Now you created a reaction from **A** to **B**. In this reaction definition, you don't need to assign values to **Species**.\n",
    "\n",
    "You can also create a binding reaction as follows"
   ]
  },
  {
   "cell_type": "code",
   "execution_count": 15,
   "metadata": {
    "collapsed": true
   },
   "outputs": [],
   "source": [
    "rr = ReactionRule()\n",
    "rr.add_reactant(Species(\"A\"))\n",
    "rr.add_reactant(Species(\"B\"))\n",
    "rr.add_product(Species(\"C\"))\n",
    "rr.set_k(1.0)"
   ]
  },
  {
   "cell_type": "markdown",
   "metadata": {},
   "source": [
    "A Binding **A** and **B** creates **C**. There are utility functions for binding and unbinding **ReactionRule**s."
   ]
  },
  {
   "cell_type": "code",
   "execution_count": 16,
   "metadata": {
    "collapsed": true
   },
   "outputs": [],
   "source": [
    "rr1 = create_unimolecular_reaction_rule(Species(\"A\"), Species(\"B\"), 1.0)\n",
    "rr2 = create_binding_reaction_rule(Species(\"A\"), Species(\"B\"), Species(\"C\"), 1.0)\n",
    "rr3 = create_binding_reaction_rule(Species(\"C\"), Species(\"A\"), Species(\"B\"), 1.5)"
   ]
  },
  {
   "cell_type": "markdown",
   "metadata": {},
   "source": [
    "When you want to inspect the **ReactionRule**, please use **as_string** function."
   ]
  },
  {
   "cell_type": "code",
   "execution_count": 17,
   "metadata": {
    "collapsed": false
   },
   "outputs": [
    {
     "name": "stdout",
     "output_type": "stream",
     "text": [
      "C+A>B|1.5\n"
     ]
    }
   ],
   "source": [
    "print(rr3.as_string())  # will return 'C+A>B|1.5'"
   ]
  },
  {
   "cell_type": "markdown",
   "metadata": {},
   "source": [
    "## NetworkModel"
   ]
  },
  {
   "cell_type": "markdown",
   "metadata": {},
   "source": [
    "Now you have created components for **Model**, next we register these components on **Model**."
   ]
  },
  {
   "cell_type": "code",
   "execution_count": 18,
   "metadata": {
    "collapsed": true
   },
   "outputs": [],
   "source": [
    "sp1 = Species(\"A\", \"0.005\", \"1\")\n",
    "sp2 = Species(\"B\", \"0.005\", \"1\")\n",
    "sp3 = Species(\"C\", \"0.01\", \"0.5\")\n",
    "rr1 = create_binding_reaction_rule(Species(\"A\"), Species(b\"B\"), Species(\"C\"), 0.01)\n",
    "rr2 = create_unbinding_reaction_rule(Species(\"C\"), Species(\"A\"), Species(\"B\"), 0.3)\n",
    "\n",
    "m = NetworkModel()\n",
    "m.add_species_attribute(sp1)\n",
    "m.add_species_attribute(sp2)\n",
    "m.add_species_attribute(sp3)\n",
    "m.add_reaction_rule(rr1)\n",
    "m.add_reaction_rule(rr2)"
   ]
  },
  {
   "cell_type": "markdown",
   "metadata": {},
   "source": [
    "To add a **Species**, use **add_species_attribute**.\n",
    "To add a **ReactionRule**, use **add_reaction_rule**.\n",
    "Now you created a **Model** for simple association and dissociation.\n",
    "\n",
    "To inspect a **Model**, use **species_attributes** and **reaction_rules**."
   ]
  },
  {
   "cell_type": "code",
   "execution_count": 19,
   "metadata": {
    "collapsed": false
   },
   "outputs": [
    {
     "name": "stdout",
     "output_type": "stream",
     "text": [
      "[<ecell4.core.Species object at 0x03BEEAE0>, <ecell4.core.Species object at 0x03BEE980>, <ecell4.core.Species object at 0x03BEEAD0>]\n",
      "[<ecell4.core.ReactionRule object at 0x03BEEAD0>, <ecell4.core.ReactionRule object at 0x03BEE980>]\n"
     ]
    }
   ],
   "source": [
    "print(m.species_attributes())\n",
    "print(m.reaction_rules())\n",
    "\n",
    "# will return like:\n",
    "# [<ecell4.core.Species object at 0x7f36443bfa98>, <ecell4.core.Species object at 0x7f36443bfab0>, <ecell4.core.Species object at 0x7f36443bfac8>]\n",
    "# [<ecell4.core.ReactionRule object at 0x7f36443bfa98>, <ecell4.core.ReactionRule object at 0x7f36443bfab0>]"
   ]
  },
  {
   "cell_type": "markdown",
   "metadata": {},
   "source": [
    "NetworkModel also contains Species attributes. These attributes are indispensable for particle and lattice simulations, but not necessarily needed for gillespie and ode."
   ]
  },
  {
   "cell_type": "markdown",
   "metadata": {},
   "source": [
    "NetworkModel attributes a Species based on the registered Species."
   ]
  },
  {
   "cell_type": "markdown",
   "metadata": {},
   "source": [
    "## A simple simulation with E-Cell4"
   ]
  },
  {
   "cell_type": "code",
   "execution_count": null,
   "metadata": {
    "collapsed": true
   },
   "outputs": [],
   "source": []
  }
 ],
 "metadata": {
  "kernelspec": {
   "display_name": "Python 3",
   "language": "python",
   "name": "python3"
  },
  "language_info": {
   "codemirror_mode": {
    "name": "ipython",
    "version": 3
   },
   "file_extension": ".py",
   "mimetype": "text/x-python",
   "name": "python",
   "nbconvert_exporter": "python",
   "pygments_lexer": "ipython3",
   "version": "3.4.3"
  }
 },
 "nbformat": 4,
 "nbformat_minor": 0
}
