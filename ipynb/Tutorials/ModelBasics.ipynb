{
 "cells": [
  {
   "cell_type": "markdown",
   "metadata": {},
   "source": [
    "# Tutorial 1 (Model)\n",
    "\n",
    "This is a tutorial for E-Cell4. Here, we represent the way of modeling with E-Cell 4."
   ]
  },
  {
   "cell_type": "markdown",
   "metadata": {},
   "source": [
    "## Species\n",
    "\n",
    "We'll show you how to create **Species**."
   ]
  },
  {
   "cell_type": "code",
   "execution_count": 8,
   "metadata": {
    "collapsed": true
   },
   "outputs": [],
   "source": [
    "from ecell4 import *\n",
    "\n",
    "A = Species(\"A\")\n",
    "B = Species(\"B\")"
   ]
  },
  {
   "cell_type": "markdown",
   "metadata": {},
   "source": [
    "each expression describes a **Species** named **A** or **B**.\n",
    "**A** describes not a specific molecule, but a type of molecule.\n",
    "#### Caution\n",
    "Species name(we call this **Serial**) has a number of naming rules,\n",
    "The naming requires attention to use special symbol '()', '.', '_', numbers, and space.\n",
    "\n",
    "<hr>"
   ]
  },
  {
   "cell_type": "markdown",
   "metadata": {},
   "source": [
    "You can add attributes to Species,"
   ]
  },
  {
   "cell_type": "code",
   "execution_count": 9,
   "metadata": {
    "collapsed": true
   },
   "outputs": [],
   "source": [
    "A = Species(\"A\")\n",
    "A.set_attribute(\"radius\", \"0.005\")\n",
    "A.set_attribute(\"D\", \"1\")\n",
    "A.set_attribute(\"location\", \"cytoplasm\")"
   ]
  },
  {
   "cell_type": "markdown",
   "metadata": {},
   "source": [
    "The 1st argument for **set_attribute** is the name of attribute.\n",
    "The 2nd argument is the value.\n",
    "Both have got to be string.\n",
    "\n",
    "Radius, diffusion coefficient, location are frequently used, so there is a shortcut for this."
   ]
  },
  {
   "cell_type": "code",
   "execution_count": 10,
   "metadata": {
    "collapsed": true
   },
   "outputs": [],
   "source": [
    "A = Species(\"A\", \"0.005\", \"1\", \"cytoplasm\")  # XXX: serial, radius, D, location"
   ]
  },
  {
   "cell_type": "markdown",
   "metadata": {},
   "source": [
    "When you want to inspect the **Species** attributes, please write as follows."
   ]
  },
  {
   "cell_type": "code",
   "execution_count": 12,
   "metadata": {
    "collapsed": false
   },
   "outputs": [
    {
     "name": "stdout",
     "output_type": "stream",
     "text": [
      "A\n",
      "1\n"
     ]
    }
   ],
   "source": [
    "print(A.serial())  # will return 'A'\n",
    "print(A.get_attribute(\"D\"))  # will return '1'"
   ]
  },
  {
   "cell_type": "markdown",
   "metadata": {},
   "source": [
    "NetworkModel also contains Species attributes. These attributes are indispensable for particle and lattice simulations, but not necessarily needed for gillespie and ode."
   ]
  },
  {
   "cell_type": "markdown",
   "metadata": {},
   "source": [
    "NetworkModel attributes a Species based on the registered Species."
   ]
  }
 ],
 "metadata": {
  "kernelspec": {
   "display_name": "Python 3",
   "language": "python",
   "name": "python3"
  },
  "language_info": {
   "codemirror_mode": {
    "name": "ipython",
    "version": 3
   },
   "file_extension": ".py",
   "mimetype": "text/x-python",
   "name": "python",
   "nbconvert_exporter": "python",
   "pygments_lexer": "ipython3",
   "version": "3.4.3"
  }
 },
 "nbformat": 4,
 "nbformat_minor": 0
}
