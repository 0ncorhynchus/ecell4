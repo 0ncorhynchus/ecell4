{
 "cells": [
  {
   "cell_type": "markdown",
   "metadata": {},
   "source": [
    "# Tutorial 1 (Model)\n",
    "\n",
    "This is a tutorial for E-Cell4. Here, we represent the way of modeling with E-Cell 4."
   ]
  },
  {
   "cell_type": "markdown",
   "metadata": {},
   "source": [
    "## Species\n",
    "\n",
    "We'll show you how to create **Species**."
   ]
  },
  {
   "cell_type": "code",
   "execution_count": 4,
   "metadata": {
    "collapsed": true
   },
   "outputs": [],
   "source": [
    "from ecell4 import *\n",
    "\n",
    "A = Species(\"A\")\n",
    "B = Species(\"B\")"
   ]
  },
  {
   "cell_type": "markdown",
   "metadata": {},
   "source": [
    "each expression describes a **Species** named **A** or **B**.\n",
    "**A** describes not a specific molecule, but a type of molecule.\n",
    "#### Caution\n",
    "Species name(we call this **Serial**) has a number of naming rules,\n",
    "The naming requires attention to use special symbol '()', '.', '_', numbers, and space.\n",
    "\n",
    "<hr>"
   ]
  },
  {
   "cell_type": "markdown",
   "metadata": {},
   "source": [
    "You can add attributes to Species,"
   ]
  },
  {
   "cell_type": "code",
   "execution_count": 5,
   "metadata": {
    "collapsed": true
   },
   "outputs": [],
   "source": [
    "A = Species(\"A\")\n",
    "A.set_attribute(\"radius\", \"0.005\")\n",
    "A.set_attribute(\"D\", \"1\")\n",
    "A.set_attribute(\"location\", \"cytoplasm\")"
   ]
  },
  {
   "cell_type": "markdown",
   "metadata": {},
   "source": [
    "The 1st argument for **set_attribute** is the name of attribute.\n",
    "The 2nd argument is the value.\n",
    "Both have got to be string.\n",
    "\n",
    "Radius, diffusion coefficient, location are frequently used, so there is a shortcut for this."
   ]
  },
  {
   "cell_type": "code",
   "execution_count": 6,
   "metadata": {
    "collapsed": true
   },
   "outputs": [],
   "source": [
    "A = Species(\"A\", \"0.005\", \"1\", \"cytoplasm\")  # XXX: serial, radius, D, location"
   ]
  },
  {
   "cell_type": "markdown",
   "metadata": {},
   "source": [
    "When you want to inspect the **Species** attributes, please write as follows."
   ]
  },
  {
   "cell_type": "code",
   "execution_count": 8,
   "metadata": {
    "collapsed": false
   },
   "outputs": [
    {
     "name": "stdout",
     "output_type": "stream",
     "text": [
      "A\n",
      "1\n"
     ]
    }
   ],
   "source": [
    "X = Species(\"A\", \"0.005\", \"1\")\n",
    "\n",
    "print(X.serial())  # will return 'A'\n",
    "print(X.get_attribute(\"D\"))  # will return '1'\n"
   ]
  },
  {
   "cell_type": "markdown",
   "metadata": {},
   "source": [
    "In E-Cell4, NetworkModel consists of a set of ReactionRules (and Species attributes). First, instantiate NetworkModel."
   ]
  },
  {
   "cell_type": "code",
   "execution_count": 1,
   "metadata": {
    "collapsed": false
   },
   "outputs": [],
   "source": [
    "from ecell4.core import *\n",
    "m = NetworkModel()"
   ]
  },
  {
   "cell_type": "markdown",
   "metadata": {},
   "source": [
    "Here, you can add five kinds of ReactionRules.\n",
    "\n",
    "1. create_binding_reaction_rule\n",
    "2. create_degradation_reaction_rule\n",
    "3. create_synthesis_reaction_rule\n",
    "4. create_unbinding_reaction_rule\n",
    "5. create_unimolecular_reaction_rule\n",
    "\n",
    "Now, for the simple binding/unbinding equilibrium model, let's use 1 and 4."
   ]
  },
  {
   "cell_type": "code",
   "execution_count": 2,
   "metadata": {
    "collapsed": false
   },
   "outputs": [],
   "source": [
    "rr1 = create_binding_reaction_rule(Species(\"A\"), Species(\"B\"), Species(\"C\"), 1.0)\n",
    "rr2 = create_unbinding_reaction_rule(Species(\"C\"), Species(\"A\"), Species(\"B\"), 1.0)"
   ]
  },
  {
   "cell_type": "markdown",
   "metadata": {},
   "source": [
    "A ReactionRule consists of reactants, products, and a kinetic rate. Of course, you can change the kinetic rate."
   ]
  },
  {
   "cell_type": "code",
   "execution_count": 3,
   "metadata": {
    "collapsed": false
   },
   "outputs": [
    {
     "name": "stdout",
     "output_type": "stream",
     "text": [
      "2 1 1.0\n",
      "1 2 1.0\n",
      "2.0\n"
     ]
    }
   ],
   "source": [
    "print len(rr1.reactants()), len(rr1.products()), rr1.k()\n",
    "print len(rr2.reactants()), len(rr2.products()), rr2.k()\n",
    "rr2.set_k(2.0)\n",
    "print rr2.k()"
   ]
  },
  {
   "cell_type": "markdown",
   "metadata": {},
   "source": [
    "You can get a simple string representing a ReactionRule by using as_string method."
   ]
  },
  {
   "cell_type": "code",
   "execution_count": 4,
   "metadata": {
    "collapsed": false
   },
   "outputs": [
    {
     "name": "stdout",
     "output_type": "stream",
     "text": [
      "A+B>C|1\n",
      "C>A+B|2\n"
     ]
    }
   ],
   "source": [
    "print rr1.as_string()\n",
    "print rr2.as_string()"
   ]
  },
  {
   "cell_type": "markdown",
   "metadata": {},
   "source": [
    "Next, add these ReactionRules into a NetworkModel."
   ]
  },
  {
   "cell_type": "code",
   "execution_count": 5,
   "metadata": {
    "collapsed": false
   },
   "outputs": [
    {
     "name": "stdout",
     "output_type": "stream",
     "text": [
      "2\n",
      "True True\n"
     ]
    }
   ],
   "source": [
    "m.add_reaction_rule(rr1)\n",
    "m.add_reaction_rule(rr2)\n",
    "print len(m.reaction_rules())\n",
    "print m.has_reaction_rule(rr1), m.has_reaction_rule(rr2)"
   ]
  },
  {
   "cell_type": "markdown",
   "metadata": {},
   "source": [
    "NetworkModel returns appropriate ReactionRules from the given Species through APIs named query_reaction_rules."
   ]
  },
  {
   "cell_type": "code",
   "execution_count": 6,
   "metadata": {
    "collapsed": false
   },
   "outputs": [
    {
     "name": "stdout",
     "output_type": "stream",
     "text": [
      "['C>A+B|2']\n",
      "[]\n",
      "['A+B>C|1']\n",
      "['A+B>C|1']\n"
     ]
    }
   ],
   "source": [
    "print [rr.as_string() for rr in m.query_reaction_rules(Species(\"C\"))]\n",
    "print [rr.as_string() for rr in m.query_reaction_rules(Species(\"A\"))]\n",
    "print [rr.as_string() for rr in m.query_reaction_rules(Species(\"A\"), Species(\"B\"))]\n",
    "print [rr.as_string() for rr in m.query_reaction_rules(Species(\"B\"), Species(\"A\"))]"
   ]
  },
  {
   "cell_type": "markdown",
   "metadata": {},
   "source": [
    "NetworkModel also contains Species attributes. These attributes are indispensable for particle and lattice simulations, but not necessarily needed for gillespie and ode."
   ]
  },
  {
   "cell_type": "code",
   "execution_count": 7,
   "metadata": {
    "collapsed": false
   },
   "outputs": [],
   "source": [
    "sp1 = Species(\"A\")\n",
    "sp1.set_attribute(\"radius\", \"0.0025\")\n",
    "sp1.set_attribute(\"D\", \"1\")\n",
    "m.add_species_attribute(sp1)\n",
    "# m.add_species_attribute(Species(\"A\", \"0.0025\", \"1\"))"
   ]
  },
  {
   "cell_type": "markdown",
   "metadata": {},
   "source": [
    "NetworkModel attributes a Species based on the registered Species."
   ]
  },
  {
   "cell_type": "code",
   "execution_count": 8,
   "metadata": {
    "collapsed": false
   },
   "outputs": [
    {
     "name": "stdout",
     "output_type": "stream",
     "text": [
      "True\n",
      "True True\n",
      "0.0025 1\n"
     ]
    }
   ],
   "source": [
    "print m.has_species_attribute(Species(\"A\"))\n",
    "sp2 = m.apply_species_attributes(Species(\"A\"))\n",
    "print sp2.has_attribute(\"radius\"), sp2.has_attribute(\"D\")\n",
    "print sp2.get_attribute(\"radius\"), sp2.get_attribute(\"D\")"
   ]
  },
  {
   "cell_type": "code",
   "execution_count": 8,
   "metadata": {
    "collapsed": false
   },
   "outputs": [],
   "source": []
  }
 ],
 "metadata": {
  "kernelspec": {
   "display_name": "Python 3",
   "language": "python",
   "name": "python3"
  },
  "language_info": {
   "codemirror_mode": {
    "name": "ipython",
    "version": 3
   },
   "file_extension": ".py",
   "mimetype": "text/x-python",
   "name": "python",
   "nbconvert_exporter": "python",
   "pygments_lexer": "ipython3",
   "version": "3.4.3"
  }
 },
 "nbformat": 4,
 "nbformat_minor": 0
}
