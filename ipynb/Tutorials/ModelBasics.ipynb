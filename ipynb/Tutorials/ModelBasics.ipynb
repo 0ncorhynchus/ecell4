{
 "cells": [
  {
   "cell_type": "markdown",
   "metadata": {},
   "source": [
    "# Tutorial 1 (Model)\n",
    "\n",
    "This is a tutorial for E-Cell4. Here, we represent the way of modeling with E-Cell 4."
   ]
  },
  {
   "cell_type": "markdown",
   "metadata": {},
   "source": [
    "## Species\n",
    "\n",
    "We'll show you how to create **Species**."
   ]
  },
  {
   "cell_type": "code",
   "execution_count": 4,
   "metadata": {
    "collapsed": true
   },
   "outputs": [],
   "source": [
    "from ecell4 import *\n",
    "\n",
    "A = Species(\"A\")\n",
    "B = Species(\"B\")"
   ]
  },
  {
   "cell_type": "markdown",
   "metadata": {},
   "source": [
    "each expression describes a **Species** named **A** or **B**.\n",
    "**A** describes not a specific molecule, but a type of molecule.\n",
    "#### Caution\n",
    "Species name(we call this **Serial**) has a number of naming rules,\n",
    "The naming requires attention to use special symbol '()', '.', '_', numbers, and space.\n",
    "\n",
    "<hr>"
   ]
  },
  {
   "cell_type": "markdown",
   "metadata": {},
   "source": [
    "You can add attributes to Species,"
   ]
  },
  {
   "cell_type": "code",
   "execution_count": 5,
   "metadata": {
    "collapsed": true
   },
   "outputs": [],
   "source": [
    "A = Species(\"A\")\n",
    "A.set_attribute(\"radius\", \"0.005\")\n",
    "A.set_attribute(\"D\", \"1\")\n",
    "A.set_attribute(\"location\", \"cytoplasm\")"
   ]
  },
  {
   "cell_type": "markdown",
   "metadata": {},
   "source": [
    "The 1st argument for **set_attribute** is the name of attribute.\n",
    "The 2nd argument is the value.\n",
    "Both have got to be string.\n",
    "\n",
    "Radius, diffusion coefficient, location are frequently used, so there is a shortcut for this."
   ]
  },
  {
   "cell_type": "code",
   "execution_count": 6,
   "metadata": {
    "collapsed": true
   },
   "outputs": [],
   "source": [
    "A = Species(\"A\", \"0.005\", \"1\", \"cytoplasm\")  # XXX: serial, radius, D, location"
   ]
  },
  {
   "cell_type": "markdown",
   "metadata": {},
   "source": [
    "When you want to inspect the **Species** attributes, please write as follows."
   ]
  },
  {
   "cell_type": "code",
   "execution_count": 8,
   "metadata": {
    "collapsed": false
   },
   "outputs": [
    {
     "name": "stdout",
     "output_type": "stream",
     "text": [
      "A\n",
      "1\n"
     ]
    },
    {
     "cell_type": "code",
     "collapsed": false,
     "input": [
      "print(len(rr1.reactants()), len(rr1.products()), rr1.k())\n",
      "print(len(rr2.reactants()), len(rr2.products()), rr2.k())\n",
      "rr2.set_k(2.0)\n",
      "print(rr2.k())"
     ],
     "language": "python",
     "metadata": {},
     "outputs": [
      {
       "output_type": "stream",
       "stream": "stdout",
       "text": [
        "2 1 1.0\n",
        "1 2 1.0\n",
        "2.0\n"
       ]
      }
     ],
     "prompt_number": 3
    },
    {
     "name": "stdout",
     "output_type": "stream",
     "text": [
      "2 1 1.0\n",
      "1 2 1.0\n",
      "2.0\n"
     ]
    },
    {
     "cell_type": "code",
     "collapsed": false,
     "input": [
      "print(rr1.as_string())\n",
      "print(rr2.as_string())"
     ],
     "language": "python",
     "metadata": {},
     "outputs": [
      {
       "output_type": "stream",
       "stream": "stdout",
       "text": [
        "A+B>C|1\n",
        "C>A+B|2\n"
       ]
      }
     ],
     "prompt_number": 4
    },
    {
     "name": "stdout",
     "output_type": "stream",
     "text": [
      "A+B>C|1\n",
      "C>A+B|2\n"
     ]
    },
    {
     "cell_type": "code",
     "collapsed": false,
     "input": [
      "m.add_reaction_rule(rr1)\n",
      "m.add_reaction_rule(rr2)\n",
      "print(len(m.reaction_rules()))\n",
      "print(m.has_reaction_rule(rr1), m.has_reaction_rule(rr2))"
     ],
     "language": "python",
     "metadata": {},
     "outputs": [
      {
       "output_type": "stream",
       "stream": "stdout",
       "text": [
        "2\n",
        "True True\n"
       ]
      }
     ],
     "prompt_number": 5
    },
    {
     "name": "stdout",
     "output_type": "stream",
     "text": [
      "2\n",
      "True True\n"
     ]
    },
    {
     "cell_type": "code",
     "collapsed": false,
     "input": [
      "print([rr.as_string() for rr in m.query_reaction_rules(Species(\"C\"))])\n",
      "print([rr.as_string() for rr in m.query_reaction_rules(Species(\"A\"))])\n",
      "print([rr.as_string() for rr in m.query_reaction_rules(Species(\"A\"), Species(\"B\"))])\n",
      "print([rr.as_string() for rr in m.query_reaction_rules(Species(\"B\"), Species(\"A\"))])"
     ],
     "language": "python",
     "metadata": {},
     "outputs": [
      {
       "output_type": "stream",
       "stream": "stdout",
       "text": [
        "['C>A+B|2']\n",
        "[]\n",
        "['A+B>C|1']\n",
        "['A+B>C|1']\n"
       ]
      }
     ],
     "prompt_number": 6
    },
    {
     "name": "stdout",
     "output_type": "stream",
     "text": [
      "['C>A+B|2']\n",
      "[]\n",
      "['A+B>C|1']\n",
      "['A+B>C|1']\n"
     ]
    }
   ],
   "source": [
    "print [rr.as_string() for rr in m.query_reaction_rules(Species(\"C\"))]\n",
    "print [rr.as_string() for rr in m.query_reaction_rules(Species(\"A\"))]\n",
    "print [rr.as_string() for rr in m.query_reaction_rules(Species(\"A\"), Species(\"B\"))]\n",
    "print [rr.as_string() for rr in m.query_reaction_rules(Species(\"B\"), Species(\"A\"))]"
   ]
  },
  {
   "cell_type": "markdown",
   "metadata": {},
   "source": [
    "NetworkModel also contains Species attributes. These attributes are indispensable for particle and lattice simulations, but not necessarily needed for gillespie and ode."
   ]
  },
  {
   "cell_type": "code",
   "execution_count": 7,
   "metadata": {
    "collapsed": false
   },
   "outputs": [],
   "source": [
    "sp1 = Species(\"A\")\n",
    "sp1.set_attribute(\"radius\", \"0.0025\")\n",
    "sp1.set_attribute(\"D\", \"1\")\n",
    "m.add_species_attribute(sp1)\n",
    "# m.add_species_attribute(Species(\"A\", \"0.0025\", \"1\"))"
   ]
  },
  {
   "cell_type": "markdown",
   "metadata": {},
   "source": [
    "NetworkModel attributes a Species based on the registered Species."
   ]
  },
  {
   "cell_type": "code",
   "execution_count": 8,
   "metadata": {
    "collapsed": false
   },
   "outputs": [
    {
     "name": "stdout",
     "output_type": "stream",
     "text": [
      "True\n",
      "True True\n",
      "0.0025 1\n"
     ]
    },
    {
     "cell_type": "code",
     "collapsed": false,
     "input": [
      "print(m.has_species_attribute(Species(\"A\")))\n",
      "sp2 = m.apply_species_attributes(Species(\"A\"))\n",
      "print(sp2.has_attribute(\"radius\"), sp2.has_attribute(\"D\"))\n",
      "print(sp2.get_attribute(\"radius\"), sp2.get_attribute(\"D\"))"
     ],
     "language": "python",
     "metadata": {},
     "outputs": [
      {
       "output_type": "stream",
       "stream": "stdout",
       "text": [
        "True\n",
        "True True\n",
        "0.0025 1\n"
       ]
      }
     ],
     "prompt_number": 8
    },
    {
     "cell_type": "code",
     "collapsed": false,
     "input": [],
     "language": "python",
     "metadata": {},
     "outputs": [],
     "prompt_number": 8
    }
   ],
   "source": [
    "print m.has_species_attribute(Species(\"A\"))\n",
    "sp2 = m.apply_species_attributes(Species(\"A\"))\n",
    "print sp2.has_attribute(\"radius\"), sp2.has_attribute(\"D\")\n",
    "print sp2.get_attribute(\"radius\"), sp2.get_attribute(\"D\")"
   ]
  },
  {
   "cell_type": "code",
   "execution_count": 8,
   "metadata": {
    "collapsed": false
   },
   "outputs": [],
   "source": []
  }
 ],
 "metadata": {
  "kernelspec": {
   "display_name": "Python 3",
   "language": "python",
   "name": "python3"
  },
  "language_info": {
   "codemirror_mode": {
    "name": "ipython",
    "version": 3
   },
   "file_extension": ".py",
   "mimetype": "text/x-python",
   "name": "python",
   "nbconvert_exporter": "python",
   "pygments_lexer": "ipython3",
   "version": "3.4.3"
  }
 },
 "nbformat": 4,
 "nbformat_minor": 0
}
