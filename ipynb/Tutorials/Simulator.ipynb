{
 "cells": [
  {
   "cell_type": "markdown",
   "metadata": {},
   "source": [
    "# Tutorial 4 (Simulator)\n",
    "\n",
    "This is a tutorial for E-Cell4. Here, we explain how to handle Simulators."
   ]
  },
  {
   "cell_type": "markdown",
   "metadata": {},
   "source": [
    "Each World has its corresponding Simulator."
   ]
  },
  {
   "cell_type": "code",
   "execution_count": 1,
   "metadata": {
    "collapsed": false
   },
   "outputs": [],
   "source": [
    "from ecell4.core import *\n",
    "from ecell4.gillespie import GillespieWorld as world_type, GillespieSimulator as simulator_type\n",
    "# from ecell4.ode import ODEWorld as world_type, ODESimulator as simulator_type\n",
    "# from ecell4.spatiocyte import SpatiocyteWorld as world_type, SpatiocyteSimulator as simulator_type\n",
    "# from ecell4.meso import MesoscopicWorld as world_type, MesoscopicSimulator as simulator_type\n",
    "# from ecell4.bd import BDWorld as world_type, BDSimulator as simulator_type\n",
    "# from ecell4.egfrd import EGFRDWorld as world_type, EGFRDSimulator as simulator_type"
   ]
  },
  {
   "cell_type": "markdown",
   "metadata": {},
   "source": [
    "Simulator needs a Model and World at the instantiation."
   ]
  },
  {
   "cell_type": "code",
   "execution_count": 2,
   "metadata": {
    "collapsed": false
   },
   "outputs": [],
   "source": [
    "m = NetworkModel()\n",
    "m.add_species_attribute(Species(\"A\", \"0.0025\", \"1\"))\n",
    "m.add_reaction_rule(create_degradation_reaction_rule(Species(\"A\"), 0.693 / 1))\n",
    "\n",
    "w = world_type(Real3(1, 1, 1))\n",
    "w.bind_to(m)\n",
    "w.add_molecules(Species(\"A\"), 60)\n",
    "\n",
    "sim = simulator_type(m, w)\n",
    "sim.set_dt(0.01) #XXX: Optional"
   ]
  },
  {
   "cell_type": "markdown",
   "metadata": {},
   "source": [
    "A Simulator has getters for a simulation time, a step interval, and the next-event time. In principle, a Simulator returns the World's time as its simulation time, and does a sum of the current time and a step interval as the next-event time."
   ]
  },
  {
   "cell_type": "code",
   "execution_count": 3,
   "metadata": {
    "collapsed": false
   },
   "outputs": [
    {
     "name": "stdout",
     "output_type": "stream",
     "text": [
      "0\n",
      "(0.0, 0.0)\n",
      "(0.05844111911215542, 0.05844111911215542)\n"
     ]
    }
   ],
   "source": [
    "print(sim.num_steps())\n",
    "print(sim.t(), w.t())\n",
    "print(sim.next_time(), sim.t() + sim.dt())"
   ]
  },
  {
   "cell_type": "markdown",
   "metadata": {},
   "source": [
    "A Simulator can return the connected model and world. They are not copies, but the shared objects."
   ]
  },
  {
   "cell_type": "code",
   "execution_count": 4,
   "metadata": {
    "collapsed": false
   },
   "outputs": [
    {
     "name": "stdout",
     "output_type": "stream",
     "text": [
      "(<ecell4.core.Model object at 0x7fdfe76e8990>, <ecell4.gillespie.GillespieWorld object at 0x7fdfe76e89c0>)\n"
     ]
    }
   ],
   "source": [
    "print(sim.model(), sim.world())"
   ]
  },
  {
   "cell_type": "markdown",
   "metadata": {},
   "source": [
    "If you change a World after connecting it to a Simulator, you have to call `initialize()` manually before `step()`. The call will update the internal state of the Simulator."
   ]
  },
  {
   "cell_type": "code",
   "execution_count": 5,
   "metadata": {
    "collapsed": false
   },
   "outputs": [],
   "source": [
    "sim.world().add_molecules(Species(\"A\"), 60) # w.add_molecules(Species(\"A\"), 60)\n",
    "sim.initialize()"
   ]
  },
  {
   "cell_type": "code",
   "execution_count": 6,
   "metadata": {
    "collapsed": false
   },
   "outputs": [],
   "source": [
    "# w.save('test.h5')"
   ]
  },
  {
   "cell_type": "markdown",
   "metadata": {},
   "source": [
    "Simulator has two types of `step` functions. First, with no argument, `step()` increments the time until `next_time()`."
   ]
  },
  {
   "cell_type": "code",
   "execution_count": 7,
   "metadata": {
    "collapsed": false
   },
   "outputs": [
    {
     "name": "stdout",
     "output_type": "stream",
     "text": [
      "0.000e+00 1.240e-03\n",
      "1.240e-03 6.506e-03\n"
     ]
    }
   ],
   "source": [
    "print(\"%.3e %.3e\" % (sim.t(), sim.next_time()))\n",
    "sim.step()\n",
    "print(\"%.3e %.3e\" % (sim.t(), sim.next_time()))"
   ]
  },
  {
   "cell_type": "markdown",
   "metadata": {},
   "source": [
    "With an argument `upto`, if `upto` is later than `next_time()`, `step(upto)` increments the time upto the `next_time()` and returns `True`. Otherwise, it increments the time for `upto` and returns `False`. (If the current time `t()` is less than `upto`, it does nothing and returns `False`.)"
   ]
  },
  {
   "cell_type": "code",
   "execution_count": 8,
   "metadata": {
    "collapsed": false
   },
   "outputs": [
    {
     "name": "stdout",
     "output_type": "stream",
     "text": [
      "1.240e-03 6.506e-03\n",
      "True\n",
      "6.506e-03 2.118e-02\n"
     ]
    }
   ],
   "source": [
    "print(\"%.3e %.3e\" % (sim.t(), sim.next_time()))\n",
    "print(sim.step(0.1))\n",
    "print(\"%.3e %.3e\" % (sim.t(), sim.next_time()))"
   ]
  },
  {
   "cell_type": "markdown",
   "metadata": {},
   "source": [
    "For a discrete-step simulation, the main loop should be written like:"
   ]
  },
  {
   "cell_type": "code",
   "execution_count": 9,
   "metadata": {
    "collapsed": false
   },
   "outputs": [],
   "source": [
    "# w.load('test.h5')\n",
    "sim.initialize()"
   ]
  },
  {
   "cell_type": "code",
   "execution_count": 10,
   "metadata": {
    "collapsed": false
   },
   "outputs": [
    {
     "name": "stdout",
     "output_type": "stream",
     "text": [
      "6.506e-03 2.734e-02 2 118\n",
      "1.000e-02 1.988e-02 2 118\n",
      "2.000e-02 9.746e-03 2 118\n",
      "3.000e-02 2.122e-03 3 117\n",
      "4.000e-02 1.734e-02 6 114\n"
     ]
    }
   ],
   "source": [
    "next_time, dt = 0.0, 1e-2\n",
    "for _ in range(5):\n",
    "    while sim.step(next_time): pass\n",
    "    next_time += dt\n",
    "    print(\"%.3e %.3e %d %g\" % (sim.t(), sim.dt(), sim.num_steps(), w.num_molecules(Species(\"A\"))))"
   ]
  },
  {
   "cell_type": "code",
   "execution_count": null,
   "metadata": {
    "collapsed": false
   },
   "outputs": [],
   "source": []
  }
 ],
 "metadata": {
  "kernelspec": {
   "display_name": "Python 2",
   "language": "python",
   "name": "python2"
  },
  "language_info": {
   "codemirror_mode": {
    "name": "ipython",
    "version": 2
   },
   "file_extension": ".py",
   "mimetype": "text/x-python",
   "name": "python",
   "nbconvert_exporter": "python",
   "pygments_lexer": "ipython2",
   "version": "2.7.6"
  }
 },
 "nbformat": 4,
 "nbformat_minor": 0
}
