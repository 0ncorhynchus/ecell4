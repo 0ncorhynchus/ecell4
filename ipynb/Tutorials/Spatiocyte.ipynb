{
 "cells": [
  {
   "cell_type": "markdown",
   "metadata": {
    "collapsed": true
   },
   "source": [
    "# Spatiocyte simulations with single-molecule resolution"
   ]
  },
  {
   "cell_type": "markdown",
   "metadata": {},
   "source": [
    "We showed an example of E-Cell4 spatial representation.  \n",
    "Next let's simulate the models with more detailed spatial representation called **single molecule resolution**."
   ]
  },
  {
   "cell_type": "markdown",
   "metadata": {},
   "source": [
    "## Spatiocyte lattice-based method\n",
    "\n",
    "In spatical Gillespie method, we divided the **Space** into smaller **Space**, then we diffuse the molecules in the **Subvolume**.\n",
    "However we simulated the molecules in the **Subvolume** as the number of the molecules, and the location of the molecules are NOT determinated.\n",
    "\n",
    "In other words, the spatical resolution of spatical Gillespie method is equal to the side of the **Subvolume** $l$.\n",
    "To improve this resolution we need to make the size of $l$ small, but in this method the $l$ must be larger than the (at least) 10 times the diameter of molecule $R$.\n",
    "\n",
    "How can we improve the spatical resolution to the size of the molecule?\n",
    "The answer is the simulation with single-molecule resolution.\n",
    "This method simulate the molecule not with the number of the molecules, but with the spatical reaction diffusion of each molecule.\n",
    "\n",
    "E-Cell4 has multiple single-molecule resolution method, here we explain about Spatiocyte lattice-based method.\n",
    "\n",
    "Spatiocyte treat each molecule as hard sphere and diffuse the molecules in hexagonal close-packed lattice.\n",
    "\n",
    "Spatiocyte has ID for each molecule and the position of the molecule with single-molecule resolution.\n",
    "To use the time scale, Spatiocyte has 100 times smaller time-step than spatical Gillespie, because the time scale of diffusion increases with the square of the distance.\n",
    "\n",
    "Next, let's use Spatiocyte.\n"
   ]
  },
  {
   "cell_type": "code",
   "execution_count": 1,
   "metadata": {
    "collapsed": false
   },
   "outputs": [],
   "source": [
    "from ecell4 import *\n",
    "\n",
    "with species_attributes():\n",
    "    A | B | C | {'D': '1'}\n",
    "\n",
    "with reaction_rules():\n",
    "    A + B == C | (0.01, 0.3)\n",
    "\n",
    "m = get_model()\n",
    "w = lattice.LatticeWorld(Real3(1, 1, 1), 0.005)  # The second argument is 'voxel_radius'.\n",
    "w.bind_to(m)\n",
    "w.add_molecules(Species('C'), 60)\n",
    "sim = lattice.LatticeSimulator(w)\n",
    "obs = FixedIntervalNumberObserver(0.1, ('A', 'B', 'C'))\n",
    "sim.run(10, obs)"
   ]
  },
  {
   "cell_type": "markdown",
   "metadata": {},
   "source": [
    "There is a distinct difference in the second argument for **LatticeWorld**. This is called **Voxel radius**.\n",
    "Spatiocyte defines the locations of the molecules with dividing the Space with molecule size, and call the minimum unit for this Space as **Voxel**.\n",
    "\n",
    "In most cases the size of the molecule would be good for **Voxel radius**.\n",
    "\n",
    "In this example, we set 5 $\\mathrm{nm}$ as the radius of the molecule in the Space with the side 1 $\\mathrm{\\mu m}$ .\n",
    "\n",
    "It takes more time to simulate, but the result is same with ODE or Gillespie."
   ]
  },
  {
   "cell_type": "markdown",
   "metadata": {},
   "source": [
    "## The diffusion movement of single molecule"
   ]
  },
  {
   "cell_type": "markdown",
   "metadata": {},
   "source": [
    "## The diffusion coefficient and the second-order reaction"
   ]
  },
  {
   "cell_type": "markdown",
   "metadata": {},
   "source": [
    "## The structure of Spatiocyte method"
   ]
  },
  {
   "cell_type": "markdown",
   "metadata": {},
   "source": [
    "## The structure and the reaction"
   ]
  },
  {
   "cell_type": "code",
   "execution_count": null,
   "metadata": {
    "collapsed": true
   },
   "outputs": [],
   "source": []
  }
 ],
 "metadata": {
  "kernelspec": {
   "display_name": "Python 3",
   "language": "python",
   "name": "python3"
  },
  "language_info": {
   "codemirror_mode": {
    "name": "ipython",
    "version": 3
   },
   "file_extension": ".py",
   "mimetype": "text/x-python",
   "name": "python",
   "nbconvert_exporter": "python",
   "pygments_lexer": "ipython3",
   "version": "3.4.3"
  }
 },
 "nbformat": 4,
 "nbformat_minor": 0
}
