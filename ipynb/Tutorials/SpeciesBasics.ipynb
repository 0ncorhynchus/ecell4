{
 "cells": [
  {
   "cell_type": "markdown",
   "metadata": {},
   "source": [
    "# Tutorial 1 (Species Basics)\n",
    "\n",
    "This is a tutorial for E-Cell4. Here, we introduce how to use Species."
   ]
  },
  {
   "cell_type": "markdown",
   "metadata": {},
   "source": [
    "Import the core library, first:"
   ]
  },
  {
   "cell_type": "code",
   "execution_count": 1,
   "metadata": {
    "collapsed": false
   },
   "outputs": [],
   "source": [
    "from ecell4.core import *"
   ]
  },
  {
   "cell_type": "markdown",
   "metadata": {},
   "source": [
    "This enables Species class."
   ]
  },
  {
   "cell_type": "code",
   "execution_count": 2,
   "metadata": {
    "collapsed": false
   },
   "outputs": [
    {
     "name": "stdout",
     "output_type": "stream",
     "text": [
      "False True\n"
     ]
    }
   ],
   "source": [
    "print(Species(\"A\") == Species(\"B\"), Species(\"A\") == Species(\"A\"))"
   ]
  },
  {
   "cell_type": "markdown",
   "metadata": {},
   "source": [
    "A Species can be translated into an unique string, named \"serial\":"
   ]
  },
  {
   "cell_type": "code",
   "execution_count": 3,
   "metadata": {
    "collapsed": false
   },
   "outputs": [
    {
     "name": "stdout",
     "output_type": "stream",
     "text": [
      "A B\n"
     ]
    }
   ],
   "source": [
    "print(Species(\"A\").serial(), Species(\"B\").serial())"
   ]
  },
  {
   "cell_type": "markdown",
   "metadata": {},
   "source": [
    "A Species can have attributes as a pair of strings."
   ]
  },
  {
   "cell_type": "code",
   "execution_count": 4,
   "metadata": {
    "collapsed": false
   },
   "outputs": [
    {
     "name": "stdout",
     "output_type": "stream",
     "text": [
      "True False\n",
      "0.0025 1.0\n",
      "False\n"
     ]
    }
   ],
   "source": [
    "sp = Species(\"A\")\n",
    "sp.set_attribute(\"radius\", \"0.0025\")\n",
    "sp.set_attribute(\"D\", \"1.0\")\n",
    "print(sp.has_attribute(\"radius\"), sp.has_attribute(\"spam\"))\n",
    "print(sp.get_attribute(\"radius\"), sp.get_attribute(\"D\"))\n",
    "sp.remove_attribute(\"radius\")\n",
    "print(sp.has_attribute(\"radius\"))\n",
    "del sp"
   ]
  },
  {
   "cell_type": "markdown",
   "metadata": {},
   "source": [
    "Tips: Especially for \"radius\" and \"D\", A Species accepts these attributes at the instantiation:"
   ]
  },
  {
   "cell_type": "code",
   "execution_count": 5,
   "metadata": {
    "collapsed": false
   },
   "outputs": [
    {
     "name": "stdout",
     "output_type": "stream",
     "text": [
      "0.0025 1\n"
     ]
    }
   ],
   "source": [
    "sp = Species(\"A\", \"0.0025\", \"1\")\n",
    "print(sp.get_attribute(\"radius\"), sp.get_attribute(\"D\"))\n",
    "del sp"
   ]
  },
  {
   "cell_type": "markdown",
   "metadata": {},
   "source": [
    "A Species consists of one or more UnitSpecies."
   ]
  },
  {
   "cell_type": "code",
   "execution_count": 6,
   "metadata": {
    "collapsed": false
   },
   "outputs": [
    {
     "name": "stdout",
     "output_type": "stream",
     "text": [
      "C\n",
      "C.A.B 3\n"
     ]
    }
   ],
   "source": [
    "sp = Species()\n",
    "usp = UnitSpecies(\"C\")\n",
    "print(usp.serial())\n",
    "sp.add_unit(usp)\n",
    "sp.add_unit(UnitSpecies(\"A\"))\n",
    "sp.add_unit(UnitSpecies(\"B\"))\n",
    "print(sp.serial(), sp.num_units())\n",
    "del usp, sp"
   ]
  },
  {
   "cell_type": "markdown",
   "metadata": {},
   "source": [
    "A Species can be reproduced from serial. In the serial, all serials of UnitSpecies are joined with the separator, \".\". The comparison between Species matters the oder of UnitSpecies in each Species."
   ]
  },
  {
   "cell_type": "code",
   "execution_count": 7,
   "metadata": {
    "collapsed": false
   },
   "outputs": [
    {
     "name": "stdout",
     "output_type": "stream",
     "text": [
      "C.A.B\n",
      "False\n",
      "True\n"
     ]
    }
   ],
   "source": [
    "sp = Species(\"C.A.B\")\n",
    "print(sp.serial())\n",
    "print(Species(\"A.B.C\") == Species(\"C.A.B\"))\n",
    "print(Species(\"A.B.C\") == Species(\"A.B.C\"))\n",
    "del sp"
   ]
  },
  {
   "cell_type": "markdown",
   "metadata": {},
   "source": [
    "An UnitSpecies can have sites. Sites are sorted automatically in the UnitSpecies. Sites are given as a triplet of a **name**, **state** and **bond**."
   ]
  },
  {
   "cell_type": "code",
   "execution_count": 8,
   "metadata": {
    "collapsed": false
   },
   "outputs": [
    {
     "name": "stdout",
     "output_type": "stream",
     "text": [
      "A A(bs^_,ps=p^_,us=u)\n"
     ]
    }
   ],
   "source": [
    "usp = UnitSpecies(\"A\")\n",
    "usp.add_site(\"us\", \"u\", \"\")\n",
    "usp.add_site(\"ps\", \"p\", \"_\")\n",
    "usp.add_site(\"bs\", \"\", \"_\")\n",
    "print(usp.name(), usp.serial())\n",
    "del usp"
   ]
  },
  {
   "cell_type": "markdown",
   "metadata": {},
   "source": [
    "An UnitSpecies can be reproduced from its serial. Please be careful with the order of sites where sites with a state must be placed after sites with no state specification."
   ]
  },
  {
   "cell_type": "code",
   "execution_count": 9,
   "metadata": {
    "collapsed": false
   },
   "outputs": [
    {
     "name": "stdout",
     "output_type": "stream",
     "text": [
      "A(bs^_,ps=p^_,us=u)\n"
     ]
    }
   ],
   "source": [
    "usp = UnitSpecies()\n",
    "usp.deserialize(\"A(bs^_, us=u, ps=p^_)\")\n",
    "print(usp.serial())\n",
    "del usp"
   ]
  },
  {
   "cell_type": "markdown",
   "metadata": {},
   "source": [
    "Of course, a site of UnitSpecies is available even in a Species' serial."
   ]
  },
  {
   "cell_type": "code",
   "execution_count": 10,
   "metadata": {
    "collapsed": false
   },
   "outputs": [
    {
     "name": "stdout",
     "output_type": "stream",
     "text": [
      "A(bs^1,ps=u).A(bs,ps=p^1) 2\n"
     ]
    }
   ],
   "source": [
    "sp = Species(\"A(bs^1, ps=u).A(bs, ps=p^1)\")\n",
    "print(sp.serial(), sp.num_units())\n",
    "del sp"
   ]
  }
 ],
 "metadata": {
  "kernelspec": {
   "display_name": "Python 2",
   "language": "python",
   "name": "python2"
  },
  "language_info": {
   "codemirror_mode": {
    "name": "ipython",
    "version": 2
   },
   "file_extension": ".py",
   "mimetype": "text/x-python",
   "name": "python",
   "nbconvert_exporter": "python",
   "pygments_lexer": "ipython2",
   "version": "2.7.6"
  }
 },
 "nbformat": 4,
 "nbformat_minor": 0
}
