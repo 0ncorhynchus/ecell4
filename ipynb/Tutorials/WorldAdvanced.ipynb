{
 "cells": [
  {
   "cell_type": "markdown",
   "metadata": {},
   "source": [
    "# Tutorial 6 (World Advanced)\n",
    "\n",
    "This is a tutorial for E-Cell4."
   ]
  },
  {
   "cell_type": "code",
   "execution_count": 1,
   "metadata": {
    "collapsed": false
   },
   "outputs": [],
   "source": [
    "from ecell4.core import *\n",
    "from ecell4.gillespie import GillespieWorld\n",
    "from ecell4.ode import ODEWorld\n",
    "from ecell4.spatiocyte import SpatiocyteWorld\n",
    "from ecell4.bd import BDWorld\n",
    "\n",
    "edge_lengths = Real3(1, 2, 3)"
   ]
  },
  {
   "cell_type": "code",
   "execution_count": 2,
   "metadata": {
    "collapsed": false
   },
   "outputs": [],
   "source": [
    "m = NetworkModel()\n",
    "m.add_species_attribute(Species(\"A\", \"0.0025\", \"1\"))"
   ]
  },
  {
   "cell_type": "markdown",
   "metadata": {},
   "source": [
    "`ParticleSpace` interfaces:"
   ]
  },
  {
   "cell_type": "code",
   "execution_count": 3,
   "metadata": {
    "collapsed": false
   },
   "outputs": [],
   "source": [
    "w = BDWorld(edge_lengths)\n",
    "# w = SpatiocyteWorld(edge_lengths)\n",
    "w.bind_to(m)"
   ]
  },
  {
   "cell_type": "markdown",
   "metadata": {},
   "source": [
    "Create a new particle. `new_particle` returns a pair of `ParticleID` and `Particle` with if the creation is succeeded or not."
   ]
  },
  {
   "cell_type": "code",
   "execution_count": 4,
   "metadata": {
    "collapsed": false
   },
   "outputs": [],
   "source": [
    "((pid, p), is_succeeded) = w.new_particle(Species(\"A\"), Real3(0.5, 0.5, 0.5))"
   ]
  },
  {
   "cell_type": "code",
   "execution_count": 5,
   "metadata": {
    "collapsed": false
   },
   "outputs": [
    {
     "name": "stdout",
     "output_type": "stream",
     "text": [
      "(<ecell4.core.ParticleID object at 0x7fcb749399d8>, <ecell4.core.Particle object at 0x7fcb74939a20>, True)\n",
      "1\n"
     ]
    }
   ],
   "source": [
    "print(pid, p, is_succeeded)\n",
    "print(w.num_molecules(Species(\"A\")))"
   ]
  },
  {
   "cell_type": "markdown",
   "metadata": {},
   "source": [
    "`ParticleID` is a pair of `Integer`s named `serial` and `lot`. `Particle` consists of `species`, `position`, `radius`, `D`."
   ]
  },
  {
   "cell_type": "code",
   "execution_count": 6,
   "metadata": {
    "collapsed": false
   },
   "outputs": [
    {
     "name": "stdout",
     "output_type": "stream",
     "text": [
      "(1L, 0)\n",
      "(u'A', (0.5, 0.5, 0.5), 0.0025, 1.0)\n"
     ]
    }
   ],
   "source": [
    "print(pid.serial(), pid.lot())\n",
    "print(p.species().serial(), tuple(p.position()), p.radius(), p.D())"
   ]
  },
  {
   "cell_type": "markdown",
   "metadata": {},
   "source": [
    "`ParticleSpace` has interfaces to check if the `ParticleID` exists (`has_particle`), to list all particles belonging to the `Species` (`list_particles`), and to get `Particle` assigned to the given `ParticleID` (`get_particle`)."
   ]
  },
  {
   "cell_type": "code",
   "execution_count": 7,
   "metadata": {
    "collapsed": false
   },
   "outputs": [
    {
     "name": "stdout",
     "output_type": "stream",
     "text": [
      "True\n",
      "[(<ecell4.core.ParticleID object at 0x7fcb749399f0>, <ecell4.core.Particle object at 0x7fcb74939a50>)]\n",
      "(<ecell4.core.ParticleID object at 0x7fcb749399f0>, <ecell4.core.Particle object at 0x7fcb74939990>)\n"
     ]
    }
   ],
   "source": [
    "print(w.has_particle(pid))\n",
    "print(w.list_particles(Species(\"A\")))\n",
    "print(w.get_particle(pid))"
   ]
  },
  {
   "cell_type": "markdown",
   "metadata": {},
   "source": [
    "To move a `Particle` to the new position, use `update_particle`. `update_particle` tries to replace the `Particle` with given one."
   ]
  },
  {
   "cell_type": "code",
   "execution_count": 8,
   "metadata": {
    "collapsed": false
   },
   "outputs": [
    {
     "name": "stdout",
     "output_type": "stream",
     "text": [
      "((0.5, 1.5, 2.5), 1)\n"
     ]
    }
   ],
   "source": [
    "w.update_particle(pid, Particle(p.species(), Real3(0.5, 1.5, 2.5), p.radius(), p.D()))\n",
    "_, newp = w.get_particle(pid)\n",
    "print(tuple(newp.position()), w.num_molecules(Species(\"A\")))"
   ]
  },
  {
   "cell_type": "markdown",
   "metadata": {},
   "source": [
    "You can remove a `Particle` by `remove_particle`."
   ]
  },
  {
   "cell_type": "code",
   "execution_count": 9,
   "metadata": {
    "collapsed": false
   },
   "outputs": [
    {
     "name": "stdout",
     "output_type": "stream",
     "text": [
      "False\n"
     ]
    }
   ],
   "source": [
    "w.remove_particle(pid)\n",
    "print(w.has_particle(pid))"
   ]
  },
  {
   "cell_type": "code",
   "execution_count": 10,
   "metadata": {
    "collapsed": false
   },
   "outputs": [],
   "source": [
    "del w"
   ]
  },
  {
   "cell_type": "markdown",
   "metadata": {},
   "source": [
    "`LatticeSpace` interfaces:"
   ]
  },
  {
   "cell_type": "code",
   "execution_count": 11,
   "metadata": {
    "collapsed": false
   },
   "outputs": [],
   "source": [
    "w = SpatiocyteWorld(edge_lengths)\n",
    "w.bind_to(m)"
   ]
  },
  {
   "cell_type": "markdown",
   "metadata": {},
   "source": [
    "`LatticeSpace` has interfaces to give essential information about it."
   ]
  },
  {
   "cell_type": "code",
   "execution_count": 12,
   "metadata": {
    "collapsed": false
   },
   "outputs": [
    {
     "name": "stdout",
     "output_type": "stream",
     "text": [
      "(0.01, 152, 62, 116)\n"
     ]
    }
   ],
   "source": [
    "print(w.voxel_radius(), w.row_size(), w.col_size(), w.layer_size())"
   ]
  },
  {
   "cell_type": "markdown",
   "metadata": {},
   "source": [
    "Positions in `LatticeSpace` is represented as a single `Integer` named `coordinate`, which is corresponding to `Real3` (`position`) in `ParticleSpace`. `coordinate2position` and `position2coordinate` give the way to convert between them."
   ]
  },
  {
   "cell_type": "code",
   "execution_count": 13,
   "metadata": {
    "collapsed": false
   },
   "outputs": [
    {
     "name": "stdout",
     "output_type": "stream",
     "text": [
      "(278033, (0.5062278801751902, 0.5080682368868706, 0.5))\n",
      "(278033, (0.5062278801751902, 0.5080682368868706, 0.5))\n",
      "815301\n"
     ]
    }
   ],
   "source": [
    "coord = w.position2coordinate(Real3(0.5, 0.5, 0.5))\n",
    "pos = w.coordinate2position(coord)\n",
    "new_coord = w.position2coordinate(pos)\n",
    "\n",
    "print(coord, tuple(pos))\n",
    "print(new_coord, tuple(w.coordinate2position(new_coord)))\n",
    "print(w.position2coordinate(Real3(0.5, 1.5, 2.5)))"
   ]
  },
  {
   "cell_type": "markdown",
   "metadata": {},
   "source": [
    "Interfaces similar to `ParticleSpace` are available in `LatticeSpace`."
   ]
  },
  {
   "cell_type": "code",
   "execution_count": 14,
   "metadata": {
    "collapsed": false
   },
   "outputs": [],
   "source": [
    "((pid, v), is_succeeded) = w.new_voxel(Species(\"A\"), coord)"
   ]
  },
  {
   "cell_type": "code",
   "execution_count": 15,
   "metadata": {
    "collapsed": false
   },
   "outputs": [
    {
     "name": "stdout",
     "output_type": "stream",
     "text": [
      "(<ecell4.core.ParticleID object at 0x7fcb74939a38>, <ecell4.core.Voxel object at 0x7fcb74939a80>, True)\n",
      "1\n"
     ]
    }
   ],
   "source": [
    "print(pid, v, is_succeeded)\n",
    "print(w.num_molecules(Species(\"A\")))"
   ]
  },
  {
   "cell_type": "code",
   "execution_count": 16,
   "metadata": {
    "collapsed": false
   },
   "outputs": [
    {
     "name": "stdout",
     "output_type": "stream",
     "text": [
      "(u'A', 278033, 0.0025, 1.0)\n"
     ]
    }
   ],
   "source": [
    "print(v.species().serial(), v.coordinate(), v.radius(), v.D())"
   ]
  },
  {
   "cell_type": "code",
   "execution_count": 17,
   "metadata": {
    "collapsed": false
   },
   "outputs": [
    {
     "name": "stdout",
     "output_type": "stream",
     "text": [
      "True\n",
      "[(<ecell4.core.ParticleID object at 0x7fcb749399d8>, <ecell4.core.Voxel object at 0x7fcb74939a98>)]\n",
      "(<ecell4.core.ParticleID object at 0x7fcb749399d8>, <ecell4.core.Voxel object at 0x7fcb74939a50>)\n"
     ]
    }
   ],
   "source": [
    "print(w.has_particle(pid))\n",
    "print(w.list_voxels(Species(\"A\")))\n",
    "print(w.get_voxel(pid))"
   ]
  },
  {
   "cell_type": "code",
   "execution_count": 18,
   "metadata": {
    "collapsed": false
   },
   "outputs": [
    {
     "name": "stdout",
     "output_type": "stream",
     "text": [
      "(791525, 1)\n"
     ]
    }
   ],
   "source": [
    "w.update_voxel(pid, Voxel(v.species(), 791525, v.radius(), v.D()))\n",
    "_, newv = w.get_voxel(pid)\n",
    "print(newv.coordinate(), w.num_molecules(Species(\"A\")))"
   ]
  },
  {
   "cell_type": "code",
   "execution_count": 19,
   "metadata": {
    "collapsed": false
   },
   "outputs": [
    {
     "name": "stdout",
     "output_type": "stream",
     "text": [
      "False\n"
     ]
    }
   ],
   "source": [
    "w.remove_voxel(pid)\n",
    "print(w.has_voxel(pid))"
   ]
  },
  {
   "cell_type": "markdown",
   "metadata": {},
   "source": [
    "`RandomNumberGenerator` interfaces:"
   ]
  },
  {
   "cell_type": "code",
   "execution_count": 20,
   "metadata": {
    "collapsed": false
   },
   "outputs": [
    {
     "name": "stdout",
     "output_type": "stream",
     "text": [
      "(0.999741748906672, 0.999741748906672)\n",
      "(16, 16)\n",
      "(1.0, 1.0)\n"
     ]
    }
   ],
   "source": [
    "rng1, rng2 = GSLRandomNumberGenerator(), GSLRandomNumberGenerator()\n",
    "rng1.seed(0)\n",
    "rng2.seed(0)\n",
    "print(rng1.uniform(0, 1), rng2.uniform(0, 1))\n",
    "print(rng1.uniform_int(0, 100), rng2.uniform_int(0, 100))\n",
    "print(rng1.gaussian(0.0, 1.0), rng2.gaussian(0.0, 1.0))"
   ]
  },
  {
   "cell_type": "markdown",
   "metadata": {},
   "source": [
    "`GillespieWorld`, `LatticeWorld` and `BDWorld` can be constructed with a `GSLRandomNumberGenerator`. `rng()` returns a shared object of `RandomNumberGenerator`. In below, `w.rng()` and `rng1` point the same `RandomNumberGenerator`."
   ]
  },
  {
   "cell_type": "code",
   "execution_count": 21,
   "metadata": {
    "collapsed": false
   },
   "outputs": [],
   "source": [
    "w = GillespieWorld(Real3(1, 1, 1), rng1)\n",
    "# w = BDWorld(Real3(1, 1, 1), rng1)\n",
    "# w = SpatiocyteWorld(Real3(1, 1, 1), 0.05, rng1) # The second argument is voxel_radius."
   ]
  },
  {
   "cell_type": "code",
   "execution_count": 22,
   "metadata": {
    "collapsed": false
   },
   "outputs": [
    {
     "name": "stdout",
     "output_type": "stream",
     "text": [
      "(0.23165654274635017, 0.23165654274635017, 0.48497361433692276)\n"
     ]
    }
   ],
   "source": [
    "print(w.rng().uniform(0, 1), rng2.uniform(0, 1), rng1.uniform(0, 1))"
   ]
  },
  {
   "cell_type": "code",
   "execution_count": 23,
   "metadata": {
    "collapsed": false
   },
   "outputs": [
    {
     "name": "stdout",
     "output_type": "stream",
     "text": [
      "0.957476956537\n"
     ]
    }
   ],
   "source": [
    "del rng1, rng2\n",
    "print(w.rng().uniform(0, 1))\n",
    "del w"
   ]
  }
 ],
 "metadata": {
  "kernelspec": {
   "display_name": "Python 2",
   "language": "python",
   "name": "python2"
  },
  "language_info": {
   "codemirror_mode": {
    "name": "ipython",
    "version": 2
   },
   "file_extension": ".py",
   "mimetype": "text/x-python",
   "name": "python",
   "nbconvert_exporter": "python",
   "pygments_lexer": "ipython2",
   "version": "2.7.6"
  }
 },
 "nbformat": 4,
 "nbformat_minor": 0
}
