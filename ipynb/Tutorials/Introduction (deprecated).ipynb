{
 "cells": [
  {
   "cell_type": "markdown",
   "metadata": {},
   "source": [
    "# Introduction\n",
    "\n",
    "## E-Cell4 fundamental components\n",
    "There are three fundamental components to understand E-Cell4.\n",
    "That's **Model**, **World**, **Simulator**.\n",
    "These components describe concepts for the simulation.\n",
    "\n",
    "**Model** as its name suggests, describes the matter to simulate.  \n",
    "**World** describes the state. For example, initial state or a state of a time-point.  \n",
    "**Simulator** describes the solver and algorithm.\n",
    "\n",
    "These three components are independent, but **World** is often combined with **Simulator**. (the reason discussed below)"
   ]
  },
  {
   "cell_type": "markdown",
   "metadata": {},
   "source": [
    "## A basic model in E-Cell 4\n",
    "\n",
    "**Model** is composed of a variety of **Species** and **ReactionRule**s.\n",
    "\n",
    "**Species** describes the molecule entities (e.g. protein, compound) in the model. **Species** also has its attributes like molecule size.  \n",
    "**ReactionRule** describes the interactions between the **Species** (e.g. association, dissociation)."
   ]
  },
  {
   "cell_type": "markdown",
   "metadata": {},
   "source": [
    "## Species\n",
    "\n",
    "We'll show you how to create **Species**."
   ]
  },
  {
   "cell_type": "code",
   "execution_count": 1,
   "metadata": {
    "collapsed": true
   },
   "outputs": [],
   "source": [
    "from ecell4 import *\n",
    "\n",
    "A = Species(\"A\")\n",
    "B = Species(\"B\")"
   ]
  },
  {
   "cell_type": "markdown",
   "metadata": {},
   "source": [
    "each expression describes a **Species** named **A** or **B**.\n",
    "**A** describes not a specific molecule, but a type of molecule.\n",
    "#### Caution\n",
    "Species name(we call this **Serial**) has a number of naming rules,\n",
    "The naming requires attention to use special symbol (e.g. parenthesis **()**, dot **.**, underbar **_**, numbers, and space.\n",
    "\n",
    "<hr>"
   ]
  },
  {
   "cell_type": "markdown",
   "metadata": {},
   "source": [
    "You can add attributes to Species,"
   ]
  },
  {
   "cell_type": "code",
   "execution_count": 2,
   "metadata": {
    "collapsed": true
   },
   "outputs": [],
   "source": [
    "A = Species(\"A\")\n",
    "A.set_attribute(\"radius\", \"0.005\")\n",
    "A.set_attribute(\"D\", \"1\")\n",
    "A.set_attribute(\"location\", \"cytoplasm\")"
   ]
  },
  {
   "cell_type": "markdown",
   "metadata": {},
   "source": [
    "The 1st argument for **set_attribute** is the name of attribute.\n",
    "The 2nd argument is the value.\n",
    "Both have to be string.\n",
    "\n",
    "Radius, diffusion coefficient, location are frequently used, so there is a shortcut for this."
   ]
  },
  {
   "cell_type": "code",
   "execution_count": 3,
   "metadata": {
    "collapsed": true
   },
   "outputs": [],
   "source": [
    "A = Species(\"A\", \"0.005\", \"1\", \"cytoplasm\")  # XXX: serial, radius, D, location"
   ]
  },
  {
   "cell_type": "markdown",
   "metadata": {},
   "source": [
    "When you want to inspect the **Species** attributes, please write as follows."
   ]
  },
  {
   "cell_type": "code",
   "execution_count": 4,
   "metadata": {
    "collapsed": false
   },
   "outputs": [
    {
     "name": "stdout",
     "output_type": "stream",
     "text": [
      "A\n",
      "1\n"
     ]
    }
   ],
   "source": [
    "print(A.serial())  # will return 'A'\n",
    "print(A.get_attribute(\"D\"))  # will return '1'"
   ]
  },
  {
   "cell_type": "markdown",
   "metadata": {},
   "source": [
    "## ReactionRule\n",
    "ReactionRule describes the transition of the molecule types from **Reactants** to **Products**. ReactionRule requires at least a kinetic rate attribute, this has to be number."
   ]
  },
  {
   "cell_type": "code",
   "execution_count": 5,
   "metadata": {
    "collapsed": true
   },
   "outputs": [],
   "source": [
    "rr = ReactionRule()\n",
    "rr.add_reactant(Species(\"A\"))\n",
    "rr.add_product(Species(\"B\"))\n",
    "rr.set_k(1.0)"
   ]
  },
  {
   "cell_type": "markdown",
   "metadata": {},
   "source": [
    "Now you created a reaction from **A** to **B**. In this reaction definition, you don't need to assign values to **Species**.\n",
    "\n",
    "You can also create a binding reaction as follows"
   ]
  },
  {
   "cell_type": "code",
   "execution_count": 6,
   "metadata": {
    "collapsed": true
   },
   "outputs": [],
   "source": [
    "rr = ReactionRule()\n",
    "rr.add_reactant(Species(\"A\"))\n",
    "rr.add_reactant(Species(\"B\"))\n",
    "rr.add_product(Species(\"C\"))\n",
    "rr.set_k(1.0)"
   ]
  },
  {
   "cell_type": "markdown",
   "metadata": {},
   "source": [
    "A Binding **A** and **B** creates **C**. There are utility functions for binding and unbinding **ReactionRule**s."
   ]
  },
  {
   "cell_type": "code",
   "execution_count": 7,
   "metadata": {
    "collapsed": true
   },
   "outputs": [],
   "source": [
    "rr1 = create_unimolecular_reaction_rule(Species(\"A\"), Species(\"B\"), 1.0)\n",
    "rr2 = create_binding_reaction_rule(Species(\"A\"), Species(\"B\"), Species(\"C\"), 1.0)\n",
    "rr3 = create_binding_reaction_rule(Species(\"C\"), Species(\"A\"), Species(\"B\"), 1.5)"
   ]
  },
  {
   "cell_type": "markdown",
   "metadata": {},
   "source": [
    "When you want to inspect the **ReactionRule**, please use **as_string** function."
   ]
  },
  {
   "cell_type": "code",
   "execution_count": 8,
   "metadata": {
    "collapsed": false
   },
   "outputs": [
    {
     "name": "stdout",
     "output_type": "stream",
     "text": [
      "C+A>B|1.5\n"
     ]
    }
   ],
   "source": [
    "print(rr3.as_string())  # will return 'C+A>B|1.5'"
   ]
  },
  {
   "cell_type": "markdown",
   "metadata": {},
   "source": [
    "## NetworkModel"
   ]
  },
  {
   "cell_type": "markdown",
   "metadata": {},
   "source": [
    "Now you have created components for a **Model**, next we register these components on a **Model**."
   ]
  },
  {
   "cell_type": "code",
   "execution_count": 9,
   "metadata": {
    "collapsed": false
   },
   "outputs": [],
   "source": [
    "sp1 = Species(\"A\", \"0.005\", \"1\")\n",
    "sp2 = Species(\"B\", \"0.005\", \"1\")\n",
    "sp3 = Species(\"C\", \"0.01\", \"0.5\")\n",
    "rr1 = create_binding_reaction_rule(Species(\"A\"), Species(b\"B\"), Species(\"C\"), 0.01)\n",
    "rr2 = create_unbinding_reaction_rule(Species(\"C\"), Species(\"A\"), Species(\"B\"), 0.3)\n",
    "\n",
    "m = NetworkModel()\n",
    "m.add_species_attribute(sp1)\n",
    "m.add_species_attribute(sp2)\n",
    "m.add_species_attribute(sp3)\n",
    "m.add_reaction_rule(rr1)\n",
    "m.add_reaction_rule(rr2)"
   ]
  },
  {
   "cell_type": "markdown",
   "metadata": {},
   "source": [
    "To add a **Species**, use **add_species_attribute**.\n",
    "To add a **ReactionRule**, use **add_reaction_rule**.\n",
    "Now you created a **Model** for simple association and dissociation.\n",
    "\n",
    "To inspect a **Model**, use **species_attributes**, **reaction_rules**, and **num_reaction_rules()**."
   ]
  },
  {
   "cell_type": "code",
   "execution_count": 10,
   "metadata": {
    "collapsed": false
   },
   "outputs": [
    {
     "name": "stdout",
     "output_type": "stream",
     "text": [
      "[<ecell4.core.Species object at 0x7f1e82b0fa68>, <ecell4.core.Species object at 0x7f1e82b0fa80>, <ecell4.core.Species object at 0x7f1e82b0fa98>]\n",
      "[<ecell4.core.ReactionRule object at 0x7f1e82b0fa68>, <ecell4.core.ReactionRule object at 0x7f1e82b0fa80>]\n"
     ]
    },
    {
     "data": {
      "text/plain": [
       "2"
      ]
     },
     "execution_count": 10,
     "metadata": {},
     "output_type": "execute_result"
    }
   ],
   "source": [
    "print(m.species_attributes())\n",
    "print(m.reaction_rules())\n",
    "m.num_reaction_rules()\n",
    "\n",
    "# will return like:\n",
    "# [<ecell4.core.Species object at 0x7f36443bfa98>, <ecell4.core.Species object at 0x7f36443bfab0>, <ecell4.core.Species object at 0x7f36443bfac8>]\n",
    "# [<ecell4.core.ReactionRule object at 0x7f36443bfa98>, <ecell4.core.ReactionRule object at 0x7f36443bfab0>]\n",
    "# 2"
   ]
  },
  {
   "cell_type": "markdown",
   "metadata": {},
   "source": [
    "NetworkModel also contains Species attributes. These attributes are indispensable for particle and lattice simulations, but not necessarily needed for gillespie and ode."
   ]
  },
  {
   "cell_type": "markdown",
   "metadata": {},
   "source": [
    "NetworkModel attributes a Species based on the registered Species."
   ]
  },
  {
   "cell_type": "markdown",
   "metadata": {},
   "source": [
    "## A simple simulation with E-Cell4"
   ]
  },
  {
   "cell_type": "markdown",
   "metadata": {
    "collapsed": true
   },
   "source": [
    "Yet we have not explained **World** and **Simulator**, we show you a simple simulation result.\n",
    "\n",
    "E-Cell4 has a utility function named **run_simulation** for simple demo.\n",
    "This function runs on an environment installed IPython Notebook and matplotlib."
   ]
  },
  {
   "cell_type": "code",
   "execution_count": 11,
   "metadata": {
    "collapsed": false
   },
   "outputs": [
    {
     "data": {
      "image/png": "[encoded data removed]",
      "text/plain": [
       "<matplotlib.figure.Figure at 0x7f1e4f5b3d50>"
      ]
     },
     "metadata": {},
     "output_type": "display_data"
    }
   ],
   "source": [
    "%matplotlib inline\n",
    "# XXX: 'm' is a NetworkModel, which is described in Model tutorial (http://nbviewer.ipython.org/github/ecell/ecell4/blob/develop/ipynb/Tutorials/ModelBasics.ipynb) .\n",
    "\n",
    "import numpy\n",
    "t = numpy.linspace(0, 10, 100)  # [0.0, 0.1, 0.2, ..., 9.9, 10.0]\n",
    "y = run_simulation(t, {'C': 60}, volume=1.0, model=m)"
   ]
  },
  {
   "cell_type": "markdown",
   "metadata": {
    "collapsed": true
   },
   "source": [
    "**run_simulation** records the number of molecules for time **t** and plots the time-series simulation result.\n",
    "In this case, we recorded the simulation for 10 seconds per 0.1 second.\n",
    "The second argument is initial value. We started the simulation from the 60 **C** molecules.\n",
    "**volume** is the volume for this simulation, and we set a network model to **model**."
   ]
  },
  {
   "cell_type": "markdown",
   "metadata": {},
   "source": [
    "You can also plot stochastic simulation result."
   ]
  },
  {
   "cell_type": "code",
   "execution_count": 12,
   "metadata": {
    "collapsed": false
   },
   "outputs": [
    {
     "data": {
      "image/png": "[encoded data removed]",
      "text/plain": [
       "<matplotlib.figure.Figure at 0x7f1e7802b890>"
      ]
     },
     "metadata": {},
     "output_type": "display_data"
    }
   ],
   "source": [
    "y = run_simulation(t, {'C': 60}, volume=1.0, model=m, solver='gillespie')"
   ]
  },
  {
   "cell_type": "markdown",
   "metadata": {},
   "source": [
    "You can simalate a model with different methods like this.\n",
    "E-Cell system completely separates the model and simulation methods.\n"
   ]
  },
  {
   "cell_type": "markdown",
   "metadata": {},
   "source": [
    "## Special model notation in E-Cell4\n",
    "\n",
    "We created **Species** and **ReactionRule**, then set them to **NetworkModel** and simulated it.\n",
    "But the model description is cumbersome even in simple association and dissociation.\n",
    "\n",
    "So E-Cell4 has shortcuts to describe this model.\n",
    "Here we show a shortcut about **ReactionRule**.\n",
    "Before using the shortcut, please remove the reactant Species **A** and **B** we created in global scope above.\n",
    "(You don't need to remove the product **C** because it's not defined yet.)"
   ]
  },
  {
   "cell_type": "code",
   "execution_count": 13,
   "metadata": {
    "collapsed": false
   },
   "outputs": [],
   "source": [
    "del A\n",
    "del B"
   ]
  },
  {
   "cell_type": "code",
   "execution_count": 14,
   "metadata": {
    "collapsed": false
   },
   "outputs": [],
   "source": [
    "with reaction_rules():\n",
    "    A + B > C | 0.01  # equivalent to create_binding_reaction_rule\n",
    "    C > A + B | 0.3   # equivalent to create_unbinding_reaction_rule\n",
    "\n",
    "m = get_model()"
   ]
  },
  {
   "cell_type": "markdown",
   "metadata": {},
   "source": [
    "Please use **with** statement for E-Cell4 special notation.\n",
    "You can use special notation under this **with** scope.\n",
    "Please remember to write **()** after **reaction_rules**.\n",
    "\n",
    "The syntax speaks for itself. The number after separator **|** is kinetic constant.\n",
    "The syntax must be valid Python, so take care in using line breaks.\n",
    "\n",
    "If you do NOT `del A` and `del B`, `A + B` is expanded to `Species(\"A\")` + `Species(\"B\")`.  \n",
    "This causes an error like `TypeError: unsupported operand type(s) for +: 'ecell4.core.Species' and 'ecell4.core.Species'`.  \n",
    "Do not forget to `del A` and `del B` if you created **Species** **A** and **B** above.\n",
    "\n",
    "For reversible reaction, please use **==** (`<>` is also available in Python 2, but deprecated in Python 3):"
   ]
  },
  {
   "cell_type": "code",
   "execution_count": 15,
   "metadata": {
    "collapsed": false
   },
   "outputs": [
    {
     "data": {
      "image/png": "[encoded data removed]",
      "text/plain": [
       "<matplotlib.figure.Figure at 0x7f1e53f07250>"
      ]
     },
     "metadata": {},
     "output_type": "display_data"
    }
   ],
   "source": [
    "with reaction_rules():\n",
    "    A + B == C | (0.01, 0.3)\n",
    "\n",
    "y = run_simulation(10.0, {'C': 60}, volume=1.0)"
   ]
  },
  {
   "cell_type": "markdown",
   "metadata": {},
   "source": [
    "$$\\frac{\\mathrm{d[A]}}{\\mathrm{d}t}=\\frac{\\mathrm{d[B]}}{\\mathrm{d}t}=-0.01\\mathrm{[A][B]}+0.3\\mathrm{[C]}\\\\\n",
    "\\frac{\\mathrm{d[C]}}{\\mathrm{d}t}=+0.01\\mathrm{[A][B]}-0.3\\mathrm{[C]}$$"
   ]
  },
  {
   "cell_type": "markdown",
   "metadata": {},
   "source": [
    "In reversible reaction, you need to set two kinetic constant after the separator.\n",
    "When you do NOT set the **model** to **run_simulation** function, **run_simulation** calls **get_model()** automatically. So in this case we skipped.\n",
    "\n",
    "## Notations about synthesis and degradation\n",
    "\n",
    "In the absence of left or right side of molecules like synthesis or degradation,\n",
    "you may write the model like:\n",
    "\n",
    "```python\n",
    "with reaction_rules():\n",
    "    A > | 1.0  # XXX: will throw SyntaxError\n",
    "    > A | 1.0  # XXX: will throw SyntaxError\n",
    "```\n",
    "\n",
    "but this must return `SyntaxError: invalid syntax`.\n",
    "\n",
    "For synthesis and degradation, please use special character `~`.\n",
    "`~` sets the following molecule stoichiometric coefficient 0."
   ]
  },
  {
   "cell_type": "code",
   "execution_count": 16,
   "metadata": {
    "collapsed": false
   },
   "outputs": [],
   "source": [
    "with reaction_rules():\n",
    "    A > ~A | 1.0  # XXX: create_degradation_reaction_rule\n",
    "    ~A > A | 1.0  # XXX: create_synthesis_reaction_rule"
   ]
  },
  {
   "cell_type": "markdown",
   "metadata": {},
   "source": [
    "$$\\frac{\\mathrm{d[A]}}{\\mathrm{d}t}=1.0-1.0\\mathrm{[A]}$$"
   ]
  }
 ],
 "metadata": {
  "kernelspec": {
   "display_name": "Python 2",
   "language": "python",
   "name": "python2"
  },
  "language_info": {
   "codemirror_mode": {
    "name": "ipython",
    "version": 2
   },
   "file_extension": ".py",
   "mimetype": "text/x-python",
   "name": "python",
   "nbconvert_exporter": "python",
   "pygments_lexer": "ipython2",
   "version": "2.7.6"
  }
 },
 "nbformat": 4,
 "nbformat_minor": 0
}
