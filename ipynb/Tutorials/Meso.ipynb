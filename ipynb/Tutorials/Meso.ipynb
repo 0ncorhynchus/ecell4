{
 "cells": [
  {
   "cell_type": "markdown",
   "metadata": {},
   "source": [
    "## Space in E-Cell4\n",
    "\n",
    "We explained 3 elements (Model, World, Simulator) in E-Cell4.  \n",
    "We also showed a simple simulation with ODE and stochastic method (Gillespie).  \n",
    "When we showed a simple simulation with ODE and Gillespie, we used the volume for **World**.  \n",
    "What the space in E-Cell4 looks like?"
   ]
  },
  {
   "cell_type": "code",
   "execution_count": 1,
   "metadata": {
    "collapsed": false
   },
   "outputs": [],
   "source": [
    "from ecell4 import *\n",
    "\n",
    "w1 = ode.ODEWorld(Real3(1, 1, 1))\n",
    "w2 = gillespie.GillespieWorld(Real3(1, 1, 1))"
   ]
  },
  {
   "cell_type": "markdown",
   "metadata": {},
   "source": [
    "We created a cube size1 on a side for ODE and Gillespie.  \n",
    "In this case the volume only matters, that is\n"
   ]
  },
  {
   "cell_type": "code",
   "execution_count": 2,
   "metadata": {
    "collapsed": true
   },
   "outputs": [],
   "source": [
    "w3 = ode.ODEWorld(Real3(2, 0.5, 1))  # is almost equivalent to 'w1'\n",
    "w4 = gillespie.GillespieWorld(Real3(2, 2, 0.25))  # is almost equivalent to 'w2'"
   ]
  },
  {
   "cell_type": "markdown",
   "metadata": {
    "collapsed": true
   },
   "source": [
    "This returns the same results. Because the volume is same 1.\n",
    "\n",
    "This seems reasonable in homogeneous system, but the cell is NOT homogeneous.  \n",
    "So we need to consider a space for molecular localization.\n",
    "\n",
    "You can use several types of space and simulation methods in E-Cell4.\n",
    "We show an example with spatial Gillespie method.\n"
   ]
  },
  {
   "cell_type": "markdown",
   "metadata": {},
   "source": [
    "## Spatial Gillespie method"
   ]
  },
  {
   "cell_type": "code",
   "execution_count": null,
   "metadata": {
    "collapsed": true
   },
   "outputs": [],
   "source": []
  }
 ],
 "metadata": {
  "kernelspec": {
   "display_name": "Python 2",
   "language": "python",
   "name": "python2"
  },
  "language_info": {
   "codemirror_mode": {
    "name": "ipython",
    "version": 2
   },
   "file_extension": ".py",
   "mimetype": "text/x-python",
   "name": "python",
   "nbconvert_exporter": "python",
   "pygments_lexer": "ipython2",
   "version": "2.7.9"
  }
 },
 "nbformat": 4,
 "nbformat_minor": 0
}
