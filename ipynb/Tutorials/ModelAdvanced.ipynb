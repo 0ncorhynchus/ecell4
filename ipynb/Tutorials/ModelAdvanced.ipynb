{
 "metadata": {
  "name": "",
  "signature": "sha256:da37b847c1eb64a492e0d117c9b1c8f66aef2620114f98f2b27fb366f641a3f3"
 },
 "nbformat": 3,
 "nbformat_minor": 0,
 "worksheets": [
  {
   "cells": [
    {
     "cell_type": "markdown",
     "metadata": {},
     "source": [
      "# Tutorial 7 (Model Advanced)\n",
      "\n",
      "## Requirements\n",
      "- matplotlib\n",
      "\n",
      "This is a tutorial for E-Cell4."
     ]
    },
    {
     "cell_type": "code",
     "collapsed": false,
     "input": [
      "from ecell4.core import *\n",
      "from ecell4.util import *"
     ],
     "language": "python",
     "metadata": {},
     "outputs": [],
     "prompt_number": 1
    },
    {
     "cell_type": "code",
     "collapsed": false,
     "input": [
      "@species_attributes\n",
      "def attrgen(radius, D):\n",
      "    K | {\"radius\": radius, \"D\": D}\n",
      "    Kp | {\"radius\": radius, \"D\": D}\n",
      "    Kpp | {\"radius\": radius, \"D\": D}\n",
      "    KK | {\"radius\": radius, \"D\": D}\n",
      "    PP | {\"radius\": radius, \"D\": D}\n",
      "    K_KK | {\"radius\": radius, \"D\": D}\n",
      "    Kp_KK | {\"radius\": radius, \"D\": D}\n",
      "    Kpp_PP | {\"radius\": radius, \"D\": D}\n",
      "    Kp_PP | {\"radius\": radius, \"D\": D}\n",
      "\n",
      "@reaction_rules\n",
      "def rulegen(kon1, koff1, kcat1, kon2, koff2, kcat2):\n",
      "    (K + KK == K_KK | (kon1, koff1)\n",
      "        > Kp + KK | kcat1\n",
      "        == Kp_KK | (kon2, koff2)\n",
      "        > Kpp + KK | kcat2)\n",
      "\n",
      "    (Kpp + PP == Kpp_PP | (kon1, koff1)\n",
      "        > Kp + PP | kcat1\n",
      "        == Kp_PP | (kon2, koff2)\n",
      "        > K + PP | kcat2)"
     ],
     "language": "python",
     "metadata": {},
     "outputs": [],
     "prompt_number": 2
    },
    {
     "cell_type": "code",
     "collapsed": false,
     "input": [
      "m = NetworkModel()"
     ],
     "language": "python",
     "metadata": {},
     "outputs": [],
     "prompt_number": 3
    },
    {
     "cell_type": "code",
     "collapsed": false,
     "input": [
      "for i, sp in enumerate(attrgen(\"0.0025\", \"1\")):\n",
      "    print(i, sp.serial(), sp.get_attribute(\"radius\"), sp.get_attribute(\"D\"))\n",
      "    m.add_species_attribute(sp)"
     ],
     "language": "python",
     "metadata": {},
     "outputs": [
      {
       "output_type": "stream",
       "stream": "stdout",
       "text": [
        "0 K 0.0025 1\n",
        "1 Kp 0.0025 1\n",
        "2 Kpp 0.0025 1\n",
        "3 KK 0.0025 1\n",
        "4 PP 0.0025 1\n",
        "5 K_KK 0.0025 1\n",
        "6 Kp_KK 0.0025 1\n",
        "7 Kpp_PP 0.0025 1\n",
        "8 Kp_PP 0.0025 1\n"
       ]
      }
     ],
     "prompt_number": 4
    },
    {
     "cell_type": "code",
     "collapsed": false,
     "input": [
      "ka1, kd1, kcat1 = 0.04483455086786913, 1.35, 1.5\n",
      "ka2, kd2, kcat2 = 0.09299017957780264, 1.73, 15.0\n",
      "\n",
      "for i, rr in enumerate(rulegen(ka1, kd2, kcat1, ka2, kd2, kcat2)):\n",
      "    reactants, products, k = rr.reactants(), rr.products(), rr.k()\n",
      "    print(i, rr.as_string())\n",
      "    m.add_reaction_rule(rr)"
     ],
     "language": "python",
     "metadata": {},
     "outputs": [
      {
       "output_type": "stream",
       "stream": "stdout",
       "text": [
        "0 K+KK>K_KK|0.0448346\n",
        "1 K_KK>K+KK|1.73\n",
        "2 K_KK>Kp+KK|1.5\n",
        "3 Kp+KK>Kp_KK|0.0929902\n",
        "4 Kp_KK>Kp+KK|1.73\n",
        "5 Kp_KK>Kpp+KK|15\n",
        "6 Kpp+PP>Kpp_PP|0.0448346\n",
        "7 Kpp_PP>Kpp+PP|1.73\n",
        "8 Kpp_PP>Kp+PP|1.5\n",
        "9 Kp+PP>Kp_PP|0.0929902\n",
        "10 Kp_PP>Kp+PP|1.73\n",
        "11 Kp_PP>K+PP|15\n"
       ]
      }
     ],
     "prompt_number": 5
    },
    {
     "cell_type": "code",
     "collapsed": false,
     "input": [
      "from ecell4.gillespie import GillespieWorld as world_type, GillespieSimulator as simulator_type\n",
      "# from ecell4.ode import ODEWorld as world_type, ODESimulator as simulator_type\n",
      "\n",
      "w = world_type(Real3(1, 1, 1))\n",
      "w.bind_to(m)\n",
      "w.add_molecules(Species(\"K\"), 120)\n",
      "w.add_molecules(Species(\"KK\"), 30)\n",
      "w.add_molecules(Species(\"PP\"), 30)\n",
      "sim = simulator_type(m, w)"
     ],
     "language": "python",
     "metadata": {},
     "outputs": [],
     "prompt_number": 6
    },
    {
     "cell_type": "code",
     "collapsed": false,
     "input": [
      "obs = FixedIntervalNumberObserver(1.0, [\"K\", \"K_KK\", \"Kp\", \"Kp_KK\", \"Kp_PP\", \"Kpp\", \"Kpp_PP\"])\n",
      "sim.run(60, [obs])"
     ],
     "language": "python",
     "metadata": {},
     "outputs": [],
     "prompt_number": 7
    },
    {
     "cell_type": "code",
     "collapsed": false,
     "input": [
      "%matplotlib inline\n",
      "import matplotlib.pylab as plt\n",
      "from numpy import array\n",
      "\n",
      "data = array(obs.data()).T\n",
      "plt.plot(data[0], data[1] + data[2], \"r-\", label=\"K\")\n",
      "plt.plot(data[0], data[3] + data[4] + data[5], \"g--\", label=\"Kp\")\n",
      "plt.plot(data[0], data[6] + data[7], \"b:\", label=\"Kpp\")\n",
      "plt.xlabel(\"Time\")\n",
      "plt.ylabel(\"Number Of Molecules\")\n",
      "plt.xlim(data[0][0], data[0][-1])\n",
      "plt.legend(loc=\"best\", shadow=True)\n",
      "plt.show()"
     ],
     "language": "python",
     "metadata": {},
     "outputs": [
      {
       "metadata": {},
       "output_type": "display_data",
       "png": "[encoded data removed]",
       "text": [
        "<matplotlib.figure.Figure at 0x7f72c9a54ef0>"
       ]
      }
     ],
     "prompt_number": 8
    },
    {
     "cell_type": "code",
     "collapsed": false,
     "input": [],
     "language": "python",
     "metadata": {},
     "outputs": []
    }
   ],
   "metadata": {}
  }
 ]
}