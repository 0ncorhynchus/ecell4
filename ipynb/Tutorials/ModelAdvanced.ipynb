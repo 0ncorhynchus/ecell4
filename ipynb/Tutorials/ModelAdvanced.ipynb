{
 "cells": [
  {
   "cell_type": "markdown",
   "metadata": {},
   "source": [
    "# Tutorial 7 (Model Advanced)\n",
    "\n",
    "## Requirements\n",
    "- matplotlib\n",
    "\n",
    "This is a tutorial for E-Cell4."
   ]
  },
  {
   "cell_type": "code",
   "execution_count": 1,
   "metadata": {
    "collapsed": false
   },
   "outputs": [],
   "source": [
    "from ecell4.core import *\n",
    "from ecell4.util import *"
   ]
  },
  {
   "cell_type": "code",
   "execution_count": 2,
   "metadata": {
    "collapsed": false
   },
   "outputs": [],
   "source": [
    "@species_attributes\n",
    "def attrgen(radius, D):\n",
    "    K | {\"radius\": radius, \"D\": D}\n",
    "    Kp | {\"radius\": radius, \"D\": D}\n",
    "    Kpp | {\"radius\": radius, \"D\": D}\n",
    "    KK | {\"radius\": radius, \"D\": D}\n",
    "    PP | {\"radius\": radius, \"D\": D}\n",
    "    K_KK | {\"radius\": radius, \"D\": D}\n",
    "    Kp_KK | {\"radius\": radius, \"D\": D}\n",
    "    Kpp_PP | {\"radius\": radius, \"D\": D}\n",
    "    Kp_PP | {\"radius\": radius, \"D\": D}\n",
    "\n",
    "@reaction_rules\n",
    "def rulegen(kon1, koff1, kcat1, kon2, koff2, kcat2):\n",
    "    (K + KK == K_KK | (kon1, koff1)\n",
    "        > Kp + KK | kcat1\n",
    "        == Kp_KK | (kon2, koff2)\n",
    "        > Kpp + KK | kcat2)\n",
    "\n",
    "    (Kpp + PP == Kpp_PP | (kon1, koff1)\n",
    "        > Kp + PP | kcat1\n",
    "        == Kp_PP | (kon2, koff2)\n",
    "        > K + PP | kcat2)"
   ]
  },
  {
   "cell_type": "code",
   "execution_count": 3,
   "metadata": {
    "collapsed": false
   },
   "outputs": [],
   "source": [
    "m = NetworkModel()"
   ]
  },
  {
   "cell_type": "code",
   "execution_count": 4,
   "metadata": {
    "collapsed": false
   },
   "outputs": [
    {
     "name": "stdout",
     "output_type": "stream",
     "text": [
      "(0, u'K', u'0.0025', u'1')\n",
      "(1, u'Kp', u'0.0025', u'1')\n",
      "(2, u'Kpp', u'0.0025', u'1')\n",
      "(3, u'KK', u'0.0025', u'1')\n",
      "(4, u'PP', u'0.0025', u'1')\n",
      "(5, u'K_KK', u'0.0025', u'1')\n",
      "(6, u'Kp_KK', u'0.0025', u'1')\n",
      "(7, u'Kpp_PP', u'0.0025', u'1')\n",
      "(8, u'Kp_PP', u'0.0025', u'1')\n"
     ]
    }
   ],
   "source": [
    "for i, sp in enumerate(attrgen(\"0.0025\", \"1\")):\n",
    "    print(i, sp.serial(), sp.get_attribute(\"radius\"), sp.get_attribute(\"D\"))\n",
    "    m.add_species_attribute(sp)"
   ]
  },
  {
   "cell_type": "code",
   "execution_count": 5,
   "metadata": {
    "collapsed": false
   },
   "outputs": [
    {
     "name": "stdout",
     "output_type": "stream",
     "text": [
      "(0, u'K+KK>K_KK|0.0448346')\n",
      "(1, u'K_KK>K+KK|1.73')\n",
      "(2, u'K_KK>Kp+KK|1.5')\n",
      "(3, u'Kp+KK>Kp_KK|0.0929902')\n",
      "(4, u'Kp_KK>Kp+KK|1.73')\n",
      "(5, u'Kp_KK>Kpp+KK|15')\n",
      "(6, u'Kpp+PP>Kpp_PP|0.0448346')\n",
      "(7, u'Kpp_PP>Kpp+PP|1.73')\n",
      "(8, u'Kpp_PP>Kp+PP|1.5')\n",
      "(9, u'Kp+PP>Kp_PP|0.0929902')\n",
      "(10, u'Kp_PP>Kp+PP|1.73')\n",
      "(11, u'Kp_PP>K+PP|15')\n"
     ]
    }
   ],
   "source": [
    "ka1, kd1, kcat1 = 0.04483455086786913, 1.35, 1.5\n",
    "ka2, kd2, kcat2 = 0.09299017957780264, 1.73, 15.0\n",
    "\n",
    "for i, rr in enumerate(rulegen(ka1, kd2, kcat1, ka2, kd2, kcat2)):\n",
    "    reactants, products, k = rr.reactants(), rr.products(), rr.k()\n",
    "    print(i, rr.as_string())\n",
    "    m.add_reaction_rule(rr)"
   ]
  },
  {
   "cell_type": "code",
   "execution_count": 6,
   "metadata": {
    "collapsed": false
   },
   "outputs": [],
   "source": [
    "from ecell4.gillespie import GillespieWorld as world_type, GillespieSimulator as simulator_type\n",
    "# from ecell4.ode import ODEWorld as world_type, ODESimulator as simulator_type\n",
    "\n",
    "w = world_type(Real3(1, 1, 1))\n",
    "# w.bind_to(m)\n",
    "w.add_molecules(Species(\"K\"), 120)\n",
    "w.add_molecules(Species(\"KK\"), 30)\n",
    "w.add_molecules(Species(\"PP\"), 30)\n",
    "sim = simulator_type(m, w)"
   ]
  },
  {
   "cell_type": "code",
   "execution_count": 7,
   "metadata": {
    "collapsed": false
   },
   "outputs": [],
   "source": [
    "obs = FixedIntervalNumberObserver(1.0, [\"K\", \"K_KK\", \"Kp\", \"Kp_KK\", \"Kp_PP\", \"Kpp\", \"Kpp_PP\"])\n",
    "sim.run(60, [obs])"
   ]
  },
  {
   "cell_type": "code",
   "execution_count": 8,
   "metadata": {
    "collapsed": false
   },
   "outputs": [
    {
     "data": {
      "image/png": "[encoded data removed]",
      "text/plain": [
       "<matplotlib.figure.Figure at 0x7f93601c8350>"
      ]
     },
     "metadata": {},
     "output_type": "display_data"
    }
   ],
   "source": [
    "%matplotlib inline\n",
    "import matplotlib.pylab as plt\n",
    "from numpy import array\n",
    "\n",
    "data = array(obs.data()).T\n",
    "plt.plot(data[0], data[1] + data[2], \"r-\", label=\"K\")\n",
    "plt.plot(data[0], data[3] + data[4] + data[5], \"g--\", label=\"Kp\")\n",
    "plt.plot(data[0], data[6] + data[7], \"b:\", label=\"Kpp\")\n",
    "plt.xlabel(\"Time\")\n",
    "plt.ylabel(\"Number Of Molecules\")\n",
    "plt.xlim(data[0][0], data[0][-1])\n",
    "plt.legend(loc=\"best\", shadow=True)\n",
    "plt.show()"
   ]
  }
 ],
 "metadata": {
  "kernelspec": {
   "display_name": "Python 2",
   "language": "python",
   "name": "python2"
  },
  "language_info": {
   "codemirror_mode": {
    "name": "ipython",
    "version": 2
   },
   "file_extension": ".py",
   "mimetype": "text/x-python",
   "name": "python",
   "nbconvert_exporter": "python",
   "pygments_lexer": "ipython2",
   "version": "2.7.6"
  }
 },
 "nbformat": 4,
 "nbformat_minor": 0
}
