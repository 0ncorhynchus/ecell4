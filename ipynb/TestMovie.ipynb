{
 "metadata": {
  "name": "",
  "signature": "sha256:be2c25fa27267c1e4c69aab64f6ed562bb5b2e33fa14c36b9c1871c6ce81b497"
 },
 "nbformat": 3,
 "nbformat_minor": 0,
 "worksheets": [
  {
   "cells": [
    {
     "cell_type": "code",
     "collapsed": false,
     "input": [
      "%matplotlib inline\n",
      "from ecell4.core import *\n",
      "from ecell4.util import *\n",
      "from ecell4 import lattice, egfrd\n",
      "viz.init_ipynb()"
     ],
     "language": "python",
     "metadata": {},
     "outputs": [
      {
       "html": [
        "<script>\n",
        "if(window['d3'] === undefined ||\n",
        "   window['THREE'] === undefined ||\n",
        "   window['Elegans'] === undefined){\n",
        "    var paths = {\n",
        "\td3: 'http://cdnjs.cloudflare.com/ajax/libs/d3/3.4.4/d3.min',\n",
        "\tTHREE: 'http://cdnjs.cloudflare.com/ajax/libs/three.js/r66/three.min'\n",
        "    };\n",
        "\n",
        "    var shim = {\n",
        "\t'THREE': {exports: 'THREE'}\n",
        "    };\n",
        "\n",
        "    console.log('Begin loading all JavaScript libs...');\n",
        "    require.config({paths: paths, shim: shim});\n",
        "\n",
        "    require(['d3', 'THREE'], function(d3, THREE){\n",
        "\twindow['d3'] = d3;\n",
        "\twindow['THREE'] = THREE;\n",
        "\tconsole.log('Finished loading d3.js and Three.js.');\n",
        "\n",
        "\t// URL shown below (rawgit.com) should be replaced!\n",
        "\tvar script = d3.select(\"head\")\n",
        "\t    .append(\"script\")\n",
        "\t    .attr(\"src\", 'https://rawgit.com/domitry/elegans/master/release/elegans.js')\n",
        "\t    .attr(\"async\", true);\n",
        "\n",
        "\tscript[0][0].onload = script[0][0].onreadystatechange = function(){\n",
        "\t    var event = document.createEvent(\"HTMLEvents\");\n",
        "\t    event.initEvent(\"load_elegans\", true, false);\n",
        "\t    window.dispatchEvent(event);\n",
        "\t    console.log('Finished loading Elegans.js ;)');\n",
        "\t};\n",
        "    });\n",
        "}\n",
        "</script>\n"
       ],
       "metadata": {},
       "output_type": "display_data",
       "text": [
        "<IPython.core.display.HTML at 0x7f8e001513c8>"
       ]
      }
     ],
     "prompt_number": 1
    },
    {
     "cell_type": "code",
     "collapsed": false,
     "input": [
      "with species_attributes():\n",
      "    A | B | C | {\"D\": \"1\", \"radius\": \"0.005\"}\n",
      "\n",
      "with reaction_rules():\n",
      "    A + B == C | (0.01, 0.3)\n",
      "\n",
      "m = get_model(False)"
     ],
     "language": "python",
     "metadata": {},
     "outputs": [],
     "prompt_number": 2
    },
    {
     "cell_type": "code",
     "collapsed": false,
     "input": [
      "# factory = egfrd.EGFRDFactory(Integer3(4, 4, 4))\n",
      "factory = lattice.LatticeFactory(0.005)"
     ],
     "language": "python",
     "metadata": {},
     "outputs": [],
     "prompt_number": 3
    },
    {
     "cell_type": "code",
     "collapsed": false,
     "input": [
      "w = factory.create_world(Real3(1, 1, 1))\n",
      "w.bind_to(m)"
     ],
     "language": "python",
     "metadata": {},
     "outputs": [],
     "prompt_number": 4
    },
    {
     "cell_type": "code",
     "collapsed": false,
     "input": [
      "w.add_molecules(Species(\"A\"), 60, AABB(Real3(0, 0, 0), Real3(0.5, 1, 1)))\n",
      "w.add_molecules(Species(\"B\"), 60, AABB(Real3(0.5, 0, 0), Real3(1, 1, 1)))"
     ],
     "language": "python",
     "metadata": {},
     "outputs": [],
     "prompt_number": 5
    },
    {
     "cell_type": "code",
     "collapsed": false,
     "input": [
      "sim = factory.create_simulator(w)\n",
      "# obs1 = FixedIntervalHDF5Observer(0.02, \"test%03d.h5\")\n",
      "obs2 = NumberObserver((\"A\", \"C\"))\n",
      "# sim.run(1.0, [obs1, obs2])\n",
      "sim.run(1.0, [obs2])"
     ],
     "language": "python",
     "metadata": {},
     "outputs": [],
     "prompt_number": 6
    },
    {
     "cell_type": "code",
     "collapsed": false,
     "input": [
      "# viz.plot_movie([factory.create_world(\"test%03d.h5\" % _) for _ in xrange(51)], radius=0.005, grid=False, species_list=(\"A\", \"B\", \"C\"))"
     ],
     "language": "python",
     "metadata": {},
     "outputs": [],
     "prompt_number": 7
    },
    {
     "cell_type": "code",
     "collapsed": false,
     "input": [
      "viz.plot_number_observer(obs2, 'o-', markeredgewidth=0)"
     ],
     "language": "python",
     "metadata": {},
     "outputs": [
      {
       "metadata": {},
       "output_type": "display_data",
       "png": "[encoded data removed]",
       "text": [
        "<matplotlib.figure.Figure at 0x7f8deb346e80>"
       ]
      }
     ],
     "prompt_number": 8
    }
   ],
   "metadata": {}
  }
 ]
}