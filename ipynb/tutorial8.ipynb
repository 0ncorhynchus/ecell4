{
 "metadata": {
  "name": ""
 },
 "nbformat": 3,
 "nbformat_minor": 0,
 "worksheets": [
  {
   "cells": [
    {
     "cell_type": "markdown",
     "metadata": {},
     "source": [
      "# Tutorial 8 (Rule-based Modeling)\n",
      "\n",
      "This is a tutorial for E-Cell4."
     ]
    },
    {
     "cell_type": "code",
     "collapsed": false,
     "input": [
      "from ecell4.core import *\n",
      "\n",
      "def rrgenerate2str(*args):\n",
      "    return [[sp.serial() for sp in products] for products in rrgenerate(*args)]"
     ],
     "language": "python",
     "metadata": {},
     "outputs": [],
     "prompt_number": 21
    },
    {
     "cell_type": "code",
     "collapsed": false,
     "input": [
      "print count_spmatches(Species(\"A\"), Species(\"A(b^1).B(b^1)\"))\n",
      "print count_spmatches(Species(\"A\"), Species(\"A(b^1).A(b^1)\"))\n",
      "print count_spmatches(Species(\"A(b)\"), Species(\"A(b^1).B(b^1)\"))\n",
      "print count_spmatches(Species(\"_\"), Species(\"A(b^1).B(b^1)\"))"
     ],
     "language": "python",
     "metadata": {},
     "outputs": [
      {
       "output_type": "stream",
       "stream": "stdout",
       "text": [
        "1\n",
        "2\n",
        "0\n",
        "2\n"
       ]
      }
     ],
     "prompt_number": 22
    },
    {
     "cell_type": "code",
     "collapsed": false,
     "input": [
      "rr1 = create_unbinding_reaction_rule(Species(\"A(b^1).B(b^1)\"), Species(\"A(b)\"), Species(\"B(b)\"), 1.0)\n",
      "rr2 = create_binding_reaction_rule(Species(\"A(b)\"), Species(\"B(b)\"), Species(\"A(b^1).B(b^1)\"), 1.0)"
     ],
     "language": "python",
     "metadata": {},
     "outputs": [],
     "prompt_number": 23
    },
    {
     "cell_type": "code",
     "collapsed": false,
     "input": [
      "print count_rrmatches(rr1, (Species(\"A(b^1).B(b^1)\"), ))\n",
      "print count_rrmatches(rr1, (Species(\"A(b^1,c).A(b^2,c^1).B(b^2,c^3).A(b^3,c)\"), ))\n",
      "print count_rrmatches(rr2, (Species(\"A(b,c^1).A(b,c^1)\"), Species(\"B(b,c^1).B(b,c^1)\")))"
     ],
     "language": "python",
     "metadata": {},
     "outputs": [
      {
       "output_type": "stream",
       "stream": "stdout",
       "text": [
        "1\n",
        "1\n",
        "4\n"
       ]
      }
     ],
     "prompt_number": 24
    },
    {
     "cell_type": "code",
     "collapsed": false,
     "input": [
      "print rrgenerate2str(rr1, (Species(\"A(b^1).B(b^1)\"), ))\n",
      "print rrgenerate2str(rr2, (Species(\"A(b,c=u^1).A(b,c=p^1)\"), Species(\"B(b,c=u^1).B(b,c=p^1)\")))"
     ],
     "language": "python",
     "metadata": {},
     "outputs": [
      {
       "output_type": "stream",
       "stream": "stdout",
       "text": [
        "[['A(b)', 'B(b)']]\n",
        "[['A(b^1,c=u^2).A(b,c=p^2).B(b^1,c=u^3).B(b,c=p^3)'], ['A(b^1,c=u^2).A(b,c=p^2).B(b,c=u^3).B(b^1,c=p^3)'], ['A(b,c=u^1).A(b^2,c=p^1).B(b^2,c=u^3).B(b,c=p^3)'], ['A(b,c=u^1).A(b^2,c=p^1).B(b,c=u^3).B(b^2,c=p^3)']]\n"
       ]
      }
     ],
     "prompt_number": 25
    },
    {
     "cell_type": "code",
     "collapsed": false,
     "input": [
      "print count_spmatches(Species(\"_1._1\"), Species(\"A(b^1,c).B(b^1,c^2).A(b,c^2)\"))\n",
      "print count_spmatches(Species(\"_1._1\"), Species(\"A(b^1,c^3).B(b^1,c^2).A(b,c^2).B(b^3,c)\"))"
     ],
     "language": "python",
     "metadata": {},
     "outputs": [
      {
       "output_type": "stream",
       "stream": "stdout",
       "text": [
        "2\n",
        "4\n"
       ]
      }
     ],
     "prompt_number": 26
    },
    {
     "cell_type": "code",
     "collapsed": false,
     "input": [
      "rr3 = create_binding_reaction_rule(Species(\"_1(b)\"), Species(\"_1(b)\"), Species(\"_1(b^1)._1(b^1)\"), 1.0)\n",
      "rr4 = create_unbinding_reaction_rule(Species(\"A(c1=_1,c2=_2)\"), Species(\"B(c=_2)\"), Species(\"C(c=_1)\"), 1.0)"
     ],
     "language": "python",
     "metadata": {},
     "outputs": [],
     "prompt_number": 27
    },
    {
     "cell_type": "code",
     "collapsed": false,
     "input": [
      "print rrgenerate2str(rr3, (Species(\"A(b,c=u^1).B(b,c=p^1)\"), Species(\"A(b,c=p^1).B(b,c=u^1)\")))\n",
      "print rrgenerate2str(rr4, (Species(\"A(c1=c12, c2=c13)\"), ))\n",
      "print rrgenerate2str(rr4, (Species(\"A(c1=c13, c2=c12)\"), ))"
     ],
     "language": "python",
     "metadata": {},
     "outputs": [
      {
       "output_type": "stream",
       "stream": "stdout",
       "text": [
        "[['A(b^1,c=u^2).B(b,c=p^2).A(b^1,c=p^3).B(b,c=u^3)'], ['A(b,c=u^1).B(b^2,c=p^1).A(b,c=p^3).B(b^2,c=u^3)']]\n",
        "[['B(c=c13)', 'C(c=c12)']]\n",
        "[['B(c=c12)', 'C(c=c13)']]\n"
       ]
      }
     ],
     "prompt_number": 28
    },
    {
     "cell_type": "code",
     "collapsed": false,
     "input": [
      "rr5 = create_unimolecular_reaction_rule(Species(\"A(p=u^_)\"), Species(\"A(p=p^_)\"), 1.0)"
     ],
     "language": "python",
     "metadata": {},
     "outputs": [],
     "prompt_number": 29
    },
    {
     "cell_type": "code",
     "collapsed": false,
     "input": [
      "print rrgenerate2str(rr5, (Species(\"A(p=u^1).KK(b^1)\"), ))"
     ],
     "language": "python",
     "metadata": {},
     "outputs": [
      {
       "output_type": "stream",
       "stream": "stdout",
       "text": [
        "[['A(p=p^1).KK(b^1)']]\n"
       ]
      }
     ],
     "prompt_number": 30
    },
    {
     "cell_type": "code",
     "collapsed": false,
     "input": [],
     "language": "python",
     "metadata": {},
     "outputs": [],
     "prompt_number": 30
    }
   ],
   "metadata": {}
  }
 ]
}